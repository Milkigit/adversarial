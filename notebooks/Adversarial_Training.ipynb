{
 "cells": [
  {
   "cell_type": "markdown",
   "metadata": {},
   "source": [
    "# Train MNIST model on natural samples"
   ]
  },
  {
   "cell_type": "code",
   "execution_count": 1,
   "metadata": {},
   "outputs": [],
   "source": [
    "import numpy as np\n",
    "import pandas as pd\n",
    "from torch import nn, optim\n",
    "from torch.utils.data import DataLoader\n",
    "import torch.nn.functional as F\n",
    "from torchvision import transforms, datasets\n",
    "from multiprocessing import cpu_count\n",
    "import matplotlib.pyplot as plt\n",
    "import torch\n",
    "import olympic"
   ]
  },
  {
   "cell_type": "code",
   "execution_count": 2,
   "metadata": {},
   "outputs": [],
   "source": [
    "if torch.cuda.is_available():\n",
    "    DEVICE = 'cuda'\n",
    "else:\n",
    "    DEVICE = 'cpu'"
   ]
  },
  {
   "cell_type": "code",
   "execution_count": 3,
   "metadata": {},
   "outputs": [
    {
     "name": "stdout",
     "output_type": "stream",
     "text": [
      "Downloading http://yann.lecun.com/exdb/mnist/train-images-idx3-ubyte.gz\n",
      "Downloading http://yann.lecun.com/exdb/mnist/train-labels-idx1-ubyte.gz\n",
      "Downloading http://yann.lecun.com/exdb/mnist/t10k-images-idx3-ubyte.gz\n",
      "Downloading http://yann.lecun.com/exdb/mnist/t10k-labels-idx1-ubyte.gz\n",
      "Processing...\n",
      "Done!\n"
     ]
    }
   ],
   "source": [
    "transform = transforms.Compose([\n",
    "    transforms.ToTensor(),\n",
    "])\n",
    "\n",
    "train = datasets.MNIST('../data/', train=True, transform=transform, download=True)\n",
    "val = datasets.MNIST('../data/', train=False, transform=transform, download=True)\n",
    "\n",
    "train_loader = DataLoader(train, batch_size=128, num_workers=cpu_count())\n",
    "val_loader = DataLoader(val, batch_size=128, num_workers=cpu_count())"
   ]
  },
  {
   "cell_type": "code",
   "execution_count": 4,
   "metadata": {},
   "outputs": [],
   "source": [
    "class Net(nn.Module):\n",
    "    def __init__(self):\n",
    "        super(Net, self).__init__()\n",
    "        self.conv1 = nn.Conv2d(1, 32, kernel_size=5)\n",
    "        self.conv2 = nn.Conv2d(32, 64, kernel_size=5)\n",
    "        self.fc1 = nn.Linear(1024, 10)\n",
    "\n",
    "    def forward(self, x):\n",
    "        x = F.relu(F.max_pool2d(self.conv1(x), 2))\n",
    "        x = F.relu(F.max_pool2d(self.conv2(x), 2))\n",
    "        x = x.view(-1, 1024)\n",
    "        x = self.fc1(x)\n",
    "        return F.log_softmax(x, dim=1)"
   ]
  },
  {
   "cell_type": "code",
   "execution_count": 5,
   "metadata": {},
   "outputs": [],
   "source": [
    "model = Net().to(DEVICE)\n",
    "optimiser = optim.SGD(model.parameters(), lr=0.1)\n",
    "loss_fn = nn.CrossEntropyLoss()"
   ]
  },
  {
   "cell_type": "code",
   "execution_count": 6,
   "metadata": {
    "scrolled": true
   },
   "outputs": [
    {
     "name": "stderr",
     "output_type": "stream",
     "text": [
      "\r",
      "Epoch 1:   0%|          | 0/469 [00:00<?, ?it/s]"
     ]
    },
    {
     "name": "stdout",
     "output_type": "stream",
     "text": [
      "Begin training...\n"
     ]
    },
    {
     "name": "stderr",
     "output_type": "stream",
     "text": [
      "Epoch 1: 100%|██████████| 469/469 [00:04<00:00, 109.08it/s, loss=0.287, accuracy=0.917, val_loss=0.114, val_accuracy=0.963]\n",
      "Epoch 2: 100%|██████████| 469/469 [00:04<00:00, 110.64it/s, loss=0.0846, accuracy=0.975, val_loss=0.0743, val_accuracy=0.976]\n",
      "Epoch 3: 100%|██████████| 469/469 [00:04<00:00, 113.01it/s, loss=0.0631, accuracy=0.981, val_loss=0.0633, val_accuracy=0.979]\n",
      "Epoch 4: 100%|██████████| 469/469 [00:04<00:00, 111.90it/s, loss=0.0521, accuracy=0.985, val_loss=0.0561, val_accuracy=0.981]\n",
      "Epoch 5: 100%|██████████| 469/469 [00:04<00:00, 110.40it/s, loss=0.045, accuracy=0.987, val_loss=0.0512, val_accuracy=0.983]\n",
      "Epoch 6: 100%|██████████| 469/469 [00:04<00:00, 110.28it/s, loss=0.0398, accuracy=0.988, val_loss=0.0477, val_accuracy=0.984]\n",
      "Epoch 7: 100%|██████████| 469/469 [00:04<00:00, 111.94it/s, loss=0.0357, accuracy=0.989, val_loss=0.0453, val_accuracy=0.985]\n",
      "Epoch 8: 100%|██████████| 469/469 [00:04<00:00, 110.62it/s, loss=0.0324, accuracy=0.99, val_loss=0.0429, val_accuracy=0.986]\n",
      "Epoch 9: 100%|██████████| 469/469 [00:04<00:00, 108.87it/s, loss=0.0295, accuracy=0.991, val_loss=0.0418, val_accuracy=0.987]\n",
      "Epoch 10: 100%|██████████| 469/469 [00:04<00:00, 110.19it/s, loss=0.027, accuracy=0.992, val_loss=0.0412, val_accuracy=0.986]\n",
      "Epoch 11: 100%|██████████| 469/469 [00:04<00:00, 106.34it/s, loss=0.0248, accuracy=0.993, val_loss=0.0407, val_accuracy=0.987]\n",
      "Epoch 12: 100%|██████████| 469/469 [00:04<00:00, 110.08it/s, loss=0.0228, accuracy=0.994, val_loss=0.0401, val_accuracy=0.987]\n",
      "Epoch 13: 100%|██████████| 469/469 [00:04<00:00, 107.77it/s, loss=0.0211, accuracy=0.994, val_loss=0.0398, val_accuracy=0.987]\n",
      "Epoch 14: 100%|██████████| 469/469 [00:04<00:00, 108.43it/s, loss=0.0195, accuracy=0.995, val_loss=0.0396, val_accuracy=0.987]\n",
      "Epoch 15: 100%|██████████| 469/469 [00:04<00:00, 110.47it/s, loss=0.018, accuracy=0.995, val_loss=0.0397, val_accuracy=0.987]\n",
      "Epoch 16: 100%|██████████| 469/469 [00:04<00:00, 108.70it/s, loss=0.0166, accuracy=0.996, val_loss=0.0398, val_accuracy=0.987]\n",
      "Epoch 17: 100%|██████████| 469/469 [00:04<00:00, 110.65it/s, loss=0.0154, accuracy=0.996, val_loss=0.04, val_accuracy=0.987]\n",
      "Epoch 18: 100%|██████████| 469/469 [00:04<00:00, 50.60it/s, loss=0.0142, accuracy=0.997, val_loss=0.0403, val_accuracy=0.987]\n",
      "Epoch 19: 100%|██████████| 469/469 [00:04<00:00, 107.33it/s, loss=0.0132, accuracy=0.997, val_loss=0.0405, val_accuracy=0.987]\n",
      "Epoch 20: 100%|██████████| 469/469 [00:04<00:00, 106.05it/s, loss=0.011, accuracy=0.997, val_loss=0.029, val_accuracy=0.991]"
     ]
    },
    {
     "name": "stdout",
     "output_type": "stream",
     "text": [
      "Finished.\n"
     ]
    },
    {
     "name": "stderr",
     "output_type": "stream",
     "text": [
      "\n"
     ]
    }
   ],
   "source": [
    "history_natural = olympic.fit(\n",
    "    model,\n",
    "    optimiser,\n",
    "    loss_fn,\n",
    "    dataloader=train_loader,\n",
    "    epochs=20,\n",
    "    metrics=['accuracy'],\n",
    "    prepare_batch = lambda batch: (batch[0].to(DEVICE), batch[1].to(DEVICE)),\n",
    "    callbacks=[\n",
    "        olympic.callbacks.Evaluate(val_loader),\n",
    "        olympic.callbacks.ReduceLROnPlateau(patience=5)\n",
    "    ]\n",
    ")"
   ]
  },
  {
   "cell_type": "code",
   "execution_count": 7,
   "metadata": {},
   "outputs": [
    {
     "data": {
      "text/plain": [
       "{'val_accuracy': 0.9914}"
      ]
     },
     "execution_count": 7,
     "metadata": {},
     "output_type": "execute_result"
    }
   ],
   "source": [
    "olympic.evaluate(model, val_loader, metrics=['accuracy'],\n",
    "                 prepare_batch = lambda batch: (batch[0].to(DEVICE), batch[1].to(DEVICE)))"
   ]
  },
  {
   "cell_type": "markdown",
   "metadata": {},
   "source": [
    "# $L_2$ bounded adversary"
   ]
  },
  {
   "cell_type": "code",
   "execution_count": 8,
   "metadata": {},
   "outputs": [],
   "source": [
    "import sys\n",
    "from typing import Union, Callable, Tuple\n",
    "sys.path.append('../adversarial/')\n",
    "sys.path.append('../')\n",
    "from functional import boundary, iterated_fgsm, local_search, pgd"
   ]
  },
  {
   "cell_type": "code",
   "execution_count": 9,
   "metadata": {},
   "outputs": [
    {
     "name": "stdout",
     "output_type": "stream",
     "text": [
      "L2 distance =  tensor(2.4981, device='cuda:0')\n",
      "Linf distance =  tensor(0.6201, device='cuda:0')\n",
      "Adversarial prediction =  tensor([3], device='cuda:0')\n"
     ]
    }
   ],
   "source": [
    "x, y = val[0]\n",
    "x = x.unsqueeze(0).to(DEVICE)\n",
    "y = y.unsqueeze(0).to(DEVICE)\n",
    "x_adv_pgd = pgd(model, x, y, torch.nn.CrossEntropyLoss(), k=40, step=0.1, eps=2.5, norm=2)\n",
    "print('L2 distance = ', (x - x_adv_pgd).norm(2))\n",
    "print('Linf distance = ', (x - x_adv_pgd).norm(float('inf')))\n",
    "print('Adversarial prediction = ', model(x_adv_pgd).argmax(dim=1))"
   ]
  },
  {
   "cell_type": "code",
   "execution_count": 10,
   "metadata": {},
   "outputs": [
    {
     "data": {
      "image/png": "[encoded data removed]",
      "text/plain": [
       "<Figure size 720x360 with 2 Axes>"
      ]
     },
     "metadata": {
      "needs_background": "light"
     },
     "output_type": "display_data"
    }
   ],
   "source": [
    "fig, axes = plt.subplots(1, 2, figsize=(10,5))\n",
    "\n",
    "axes[0].imshow(x[0, 0].cpu().numpy(), cmap='gray')\n",
    "axes[0].set_title(f'Sample, pred={model(x).softmax(dim=1)[0, y].item()}')\n",
    "\n",
    "axes[1].imshow(x_adv_pgd[0, 0].cpu().numpy(), cmap='gray')\n",
    "axes[1].set_title(f'Adversarial sample, pred={model(x_adv_pgd).softmax(dim=1)[0, y].item()}')\n",
    "\n",
    "plt.show()"
   ]
  },
  {
   "cell_type": "code",
   "execution_count": 11,
   "metadata": {},
   "outputs": [],
   "source": [
    "def eval_pgd_attack(model, k, eps, step):\n",
    "    total = 0\n",
    "    acc = 0\n",
    "    for x, y in val_loader:\n",
    "        total += x.size(0)\n",
    "\n",
    "        x_adv = pgd(model, x.to(DEVICE), y.to(DEVICE), torch.nn.CrossEntropyLoss(), k=k, step=step, eps=eps, norm=2)\n",
    "\n",
    "        y_pred = model(x_adv)\n",
    "\n",
    "        acc += olympic.metrics.accuracy(y.to(DEVICE), y_pred) * x.size(0)\n",
    "\n",
    "    return acc/total"
   ]
  },
  {
   "cell_type": "code",
   "execution_count": 12,
   "metadata": {},
   "outputs": [],
   "source": [
    "pgd_attack_range = np.arange(0.0, 8.1, 0.25)\n",
    "pgd_acc = []\n",
    "for eps in pgd_attack_range:\n",
    "    pgd_acc.append(eval_pgd_attack(model, 40, eps, 0.1))"
   ]
  },
  {
   "cell_type": "code",
   "execution_count": 13,
   "metadata": {},
   "outputs": [
    {
     "data": {
      "image/png": "[encoded data removed]",
      "text/plain": [
       "<Figure size 1008x504 with 1 Axes>"
      ]
     },
     "metadata": {
      "needs_background": "light"
     },
     "output_type": "display_data"
    }
   ],
   "source": [
    "plt.figure(figsize=(14,7))\n",
    "plt.title('Accuracy against PGD adversary')\n",
    "plt.plot(pgd_attack_range, pgd_acc)\n",
    "plt.grid()\n",
    "plt.show()"
   ]
  },
  {
   "cell_type": "markdown",
   "metadata": {},
   "source": [
    "# $L_{\\infty}$ bounded adversary"
   ]
  },
  {
   "cell_type": "code",
   "execution_count": 14,
   "metadata": {
    "scrolled": false
   },
   "outputs": [
    {
     "name": "stdout",
     "output_type": "stream",
     "text": [
      "L2 distance =  tensor(2.9305, device='cuda:0')\n",
      "Linf distance =  tensor(0.1500, device='cuda:0')\n",
      "Adversarial prediction =  tensor([3], device='cuda:0')\n"
     ]
    },
    {
     "data": {
      "image/png": "[encoded data removed]",
      "text/plain": [
       "<Figure size 720x360 with 2 Axes>"
      ]
     },
     "metadata": {
      "needs_background": "light"
     },
     "output_type": "display_data"
    }
   ],
   "source": [
    "x, y = val[0]\n",
    "x = x.unsqueeze(0).to(DEVICE)\n",
    "y = y.unsqueeze(0).to(DEVICE)\n",
    "x_adv_ifgsm = iterated_fgsm(model, x, y, torch.nn.CrossEntropyLoss(), k=40, step=0.01, eps=0.15, norm='inf')\n",
    "print('L2 distance = ', (x - x_adv_ifgsm).norm(2))\n",
    "print('Linf distance = ', (x - x_adv_ifgsm).norm(float('inf')))\n",
    "print('Adversarial prediction = ', model(x_adv_ifgsm).argmax(dim=1))\n",
    "\n",
    "fig, axes = plt.subplots(1, 2, figsize=(10,5))\n",
    "\n",
    "axes[0].imshow(x[0, 0].cpu().numpy(), cmap='gray')\n",
    "axes[0].set_title(f'Sample, pred={model(x).softmax(dim=1)[0, y].item()}')\n",
    "\n",
    "axes[1].imshow(x_adv_ifgsm[0, 0].cpu().numpy(), cmap='gray')\n",
    "axes[1].set_title(f'Adversarial sample, pred={model(x_adv_ifgsm).softmax(dim=1)[0, y].item()}')\n",
    "\n",
    "plt.show()"
   ]
  },
  {
   "cell_type": "code",
   "execution_count": 15,
   "metadata": {
    "scrolled": true
   },
   "outputs": [],
   "source": [
    "def eval_iterated_fgsm(model, k, step, eps):\n",
    "    total = 0\n",
    "    acc = 0\n",
    "    for x, y in val_loader:\n",
    "        total += x.size(0)\n",
    "\n",
    "        x_adv = iterated_fgsm(\n",
    "            model, x.to(DEVICE), y.to(DEVICE), torch.nn.CrossEntropyLoss(), k=k, step=step, eps=eps, norm='inf')\n",
    "\n",
    "        y_pred = model(x_adv)\n",
    "\n",
    "        acc += olympic.metrics.accuracy(y.to(DEVICE), y_pred) * x.size(0)\n",
    "\n",
    "    return acc/total"
   ]
  },
  {
   "cell_type": "code",
   "execution_count": 16,
   "metadata": {},
   "outputs": [],
   "source": [
    "iter_fgsm_attack_range = np.arange(0.0, 0.52, 0.025)\n",
    "iter_fgsm_acc = []\n",
    "for eps in iter_fgsm_attack_range:\n",
    "    iter_fgsm_acc.append(eval_iterated_fgsm(model, 40, 0.01, eps))"
   ]
  },
  {
   "cell_type": "code",
   "execution_count": 17,
   "metadata": {},
   "outputs": [
    {
     "data": {
      "image/png": "[encoded data removed]",
      "text/plain": [
       "<Figure size 1008x504 with 1 Axes>"
      ]
     },
     "metadata": {
      "needs_background": "light"
     },
     "output_type": "display_data"
    }
   ],
   "source": [
    "plt.figure(figsize=(14,7))\n",
    "plt.title('Accuracy against Iterated FGSM adversary')\n",
    "plt.plot(iter_fgsm_attack_range, iter_fgsm_acc)\n",
    "plt.grid()\n",
    "plt.show()"
   ]
  },
  {
   "cell_type": "markdown",
   "metadata": {},
   "source": [
    "# Adversarial Training"
   ]
  },
  {
   "cell_type": "code",
   "execution_count": 18,
   "metadata": {},
   "outputs": [],
   "source": [
    "def adversarial_training(model, optimiser, loss_fn, x, y, epoch, adversary, k, step, eps, norm):\n",
    "    \"\"\"Performs a single update against a specified adversary\"\"\"\n",
    "    model.train()\n",
    "\n",
    "    # Adversial perturbation\n",
    "    x_adv = adversary(model, x, y, loss_fn, k=k, step=step, eps=eps, norm=norm)\n",
    "\n",
    "    optimiser.zero_grad()\n",
    "    y_pred = model(x_adv)\n",
    "    loss = loss_fn(y_pred, y)\n",
    "    loss.backward()\n",
    "    optimiser.step()\n",
    "\n",
    "    return loss, y_pred"
   ]
  },
  {
   "cell_type": "code",
   "execution_count": 19,
   "metadata": {
    "scrolled": true
   },
   "outputs": [
    {
     "name": "stderr",
     "output_type": "stream",
     "text": [
      "\r",
      "Epoch 1:   0%|          | 0/469 [00:00<?, ?it/s]"
     ]
    },
    {
     "name": "stdout",
     "output_type": "stream",
     "text": [
      "Begin training...\n"
     ]
    },
    {
     "name": "stderr",
     "output_type": "stream",
     "text": [
      "Epoch 1: 100%|██████████| 469/469 [01:36<00:00,  2.66it/s, loss=2.08, accuracy=0.26, val_loss=0.641, val_accuracy=0.847]\n",
      "Epoch 2: 100%|██████████| 469/469 [01:35<00:00,  2.62it/s, loss=1.33, accuracy=0.537, val_loss=0.527, val_accuracy=0.813]\n",
      "Epoch 3: 100%|██████████| 469/469 [01:34<00:00,  2.61it/s, loss=0.973, accuracy=0.67, val_loss=0.396, val_accuracy=0.862]\n",
      "Epoch 4: 100%|██████████| 469/469 [01:34<00:00,  2.66it/s, loss=0.749, accuracy=0.749, val_loss=0.316, val_accuracy=0.888]\n",
      "Epoch 5: 100%|██████████| 469/469 [01:32<00:00,  2.76it/s, loss=0.621, accuracy=0.793, val_loss=0.284, val_accuracy=0.903]\n",
      "Epoch 6: 100%|██████████| 469/469 [01:34<00:00,  2.64it/s, loss=0.551, accuracy=0.818, val_loss=0.245, val_accuracy=0.916]\n",
      "Epoch 7: 100%|██████████| 469/469 [01:34<00:00,  2.67it/s, loss=0.507, accuracy=0.832, val_loss=0.223, val_accuracy=0.926]\n",
      "Epoch 8: 100%|██████████| 469/469 [01:34<00:00,  2.68it/s, loss=0.475, accuracy=0.844, val_loss=0.214, val_accuracy=0.927]\n",
      "Epoch 9: 100%|██████████| 469/469 [01:34<00:00,  2.71it/s, loss=0.451, accuracy=0.851, val_loss=0.221, val_accuracy=0.923]\n",
      "Epoch 10: 100%|██████████| 469/469 [01:34<00:00,  2.69it/s, loss=0.434, accuracy=0.858, val_loss=0.195, val_accuracy=0.933]\n",
      "Epoch 11: 100%|██████████| 469/469 [01:34<00:00,  2.68it/s, loss=0.418, accuracy=0.863, val_loss=0.189, val_accuracy=0.937]\n",
      "Epoch 12: 100%|██████████| 469/469 [01:34<00:00,  2.69it/s, loss=0.404, accuracy=0.867, val_loss=0.178, val_accuracy=0.941]\n",
      "Epoch 13: 100%|██████████| 469/469 [01:34<00:00,  2.64it/s, loss=0.391, accuracy=0.871, val_loss=0.163, val_accuracy=0.946]\n",
      "Epoch 14: 100%|██████████| 469/469 [01:34<00:00,  2.69it/s, loss=0.382, accuracy=0.873, val_loss=0.157, val_accuracy=0.949]\n",
      "Epoch 15: 100%|██████████| 469/469 [01:34<00:00,  2.65it/s, loss=0.373, accuracy=0.877, val_loss=0.159, val_accuracy=0.947]\n",
      "Epoch 16: 100%|██████████| 469/469 [01:34<00:00,  2.69it/s, loss=0.365, accuracy=0.879, val_loss=0.155, val_accuracy=0.949]\n",
      "Epoch 17: 100%|██████████| 469/469 [01:34<00:00,  2.66it/s, loss=0.357, accuracy=0.881, val_loss=0.146, val_accuracy=0.952]\n",
      "Epoch 18: 100%|██████████| 469/469 [01:34<00:00,  2.65it/s, loss=0.35, accuracy=0.885, val_loss=0.142, val_accuracy=0.954]\n",
      "Epoch 19: 100%|██████████| 469/469 [01:34<00:00,  2.70it/s, loss=0.342, accuracy=0.887, val_loss=0.134, val_accuracy=0.956]\n",
      "Epoch 20: 100%|██████████| 469/469 [01:34<00:00,  2.65it/s, loss=0.337, accuracy=0.889, val_loss=0.136, val_accuracy=0.956]\n",
      "Epoch 21: 100%|██████████| 469/469 [01:34<00:00,  2.60it/s, loss=0.33, accuracy=0.891, val_loss=0.129, val_accuracy=0.957]\n",
      "Epoch 22: 100%|██████████| 469/469 [01:34<00:00,  2.69it/s, loss=0.324, accuracy=0.893, val_loss=0.122, val_accuracy=0.959]\n",
      "Epoch 23: 100%|██████████| 469/469 [01:34<00:00,  2.64it/s, loss=0.319, accuracy=0.895, val_loss=0.123, val_accuracy=0.958]\n",
      "Epoch 24: 100%|██████████| 469/469 [01:34<00:00,  2.66it/s, loss=0.314, accuracy=0.896, val_loss=0.122, val_accuracy=0.959]\n",
      "Epoch 25: 100%|██████████| 469/469 [01:34<00:00,  2.67it/s, loss=0.309, accuracy=0.897, val_loss=0.117, val_accuracy=0.959]\n",
      "Epoch 26: 100%|██████████| 469/469 [01:34<00:00,  2.69it/s, loss=0.305, accuracy=0.899, val_loss=0.112, val_accuracy=0.961]\n",
      "Epoch 27: 100%|██████████| 469/469 [01:34<00:00,  2.69it/s, loss=0.3, accuracy=0.9, val_loss=0.127, val_accuracy=0.955]\n",
      "Epoch 28: 100%|██████████| 469/469 [01:34<00:00,  2.67it/s, loss=0.298, accuracy=0.901, val_loss=0.12, val_accuracy=0.957]\n",
      "Epoch 29: 100%|██████████| 469/469 [01:34<00:00,  2.68it/s, loss=0.293, accuracy=0.903, val_loss=0.123, val_accuracy=0.956]\n",
      "Epoch 30: 100%|██████████| 469/469 [01:34<00:00,  2.69it/s, loss=0.289, accuracy=0.904, val_loss=0.106, val_accuracy=0.963]\n",
      "Epoch 31: 100%|██████████| 469/469 [01:34<00:00,  2.66it/s, loss=0.286, accuracy=0.905, val_loss=0.117, val_accuracy=0.957]\n",
      "Epoch 32: 100%|██████████| 469/469 [01:34<00:00,  2.67it/s, loss=0.283, accuracy=0.906, val_loss=0.116, val_accuracy=0.958]\n",
      "Epoch 33: 100%|██████████| 469/469 [01:34<00:00,  2.66it/s, loss=0.28, accuracy=0.907, val_loss=0.113, val_accuracy=0.96]\n",
      "Epoch 34: 100%|██████████| 469/469 [01:34<00:00,  2.66it/s, loss=0.278, accuracy=0.908, val_loss=0.0971, val_accuracy=0.967]\n",
      "Epoch 35: 100%|██████████| 469/469 [01:34<00:00,  2.66it/s, loss=0.275, accuracy=0.909, val_loss=0.102, val_accuracy=0.965]\n",
      "Epoch 36: 100%|██████████| 469/469 [01:34<00:00,  2.66it/s, loss=0.273, accuracy=0.909, val_loss=0.106, val_accuracy=0.962]\n",
      "Epoch 37: 100%|██████████| 469/469 [01:34<00:00,  2.70it/s, loss=0.271, accuracy=0.91, val_loss=0.11, val_accuracy=0.96]\n",
      "Epoch 38: 100%|██████████| 469/469 [01:34<00:00,  2.64it/s, loss=0.27, accuracy=0.91, val_loss=0.105, val_accuracy=0.963]\n",
      "Epoch 39: 100%|██████████| 469/469 [01:34<00:00,  2.65it/s, loss=0.266, accuracy=0.911, val_loss=0.0976, val_accuracy=0.965]\n",
      "Epoch 40: 100%|██████████| 469/469 [01:34<00:00,  2.62it/s, loss=0.243, accuracy=0.919, val_loss=0.0611, val_accuracy=0.98]\n",
      "Epoch 41: 100%|██████████| 469/469 [01:34<00:00,  2.61it/s, loss=0.24, accuracy=0.92, val_loss=0.0608, val_accuracy=0.98]\n",
      "Epoch 42: 100%|██████████| 469/469 [01:34<00:00,  2.67it/s, loss=0.24, accuracy=0.92, val_loss=0.0611, val_accuracy=0.98]\n",
      "Epoch 43: 100%|██████████| 469/469 [01:34<00:00,  2.68it/s, loss=0.238, accuracy=0.92, val_loss=0.0616, val_accuracy=0.98]\n",
      "Epoch 44: 100%|██████████| 469/469 [01:34<00:00,  2.68it/s, loss=0.238, accuracy=0.921, val_loss=0.0602, val_accuracy=0.981]\n",
      "Epoch 45: 100%|██████████| 469/469 [01:34<00:00,  2.69it/s, loss=0.237, accuracy=0.921, val_loss=0.0607, val_accuracy=0.981]\n",
      "Epoch 46: 100%|██████████| 469/469 [01:34<00:00,  2.67it/s, loss=0.227, accuracy=0.924, val_loss=0.0563, val_accuracy=0.982]\n",
      "Epoch 47: 100%|██████████| 469/469 [01:34<00:00,  2.69it/s, loss=0.226, accuracy=0.924, val_loss=0.0559, val_accuracy=0.983]\n",
      "Epoch 48: 100%|██████████| 469/469 [01:34<00:00,  2.66it/s, loss=0.225, accuracy=0.925, val_loss=0.0558, val_accuracy=0.983]\n",
      "Epoch 49: 100%|██████████| 469/469 [01:34<00:00,  2.68it/s, loss=0.225, accuracy=0.924, val_loss=0.0558, val_accuracy=0.983]\n",
      "Epoch 50: 100%|██████████| 469/469 [01:34<00:00,  2.66it/s, loss=0.224, accuracy=0.924, val_loss=0.0555, val_accuracy=0.983]"
     ]
    },
    {
     "name": "stdout",
     "output_type": "stream",
     "text": [
      "Finished.\n"
     ]
    },
    {
     "name": "stderr",
     "output_type": "stream",
     "text": [
      "\n"
     ]
    }
   ],
   "source": [
    "adv_model_linf = Net().to(DEVICE)\n",
    "optimiser = optim.SGD(adv_model_linf.parameters(), lr=0.1)\n",
    "training_history_linf = olympic.fit(\n",
    "    adv_model_linf,\n",
    "    optimiser,\n",
    "    nn.CrossEntropyLoss(),\n",
    "    dataloader=train_loader,\n",
    "    epochs=50,\n",
    "    metrics=['accuracy'],\n",
    "    prepare_batch = lambda batch: (batch[0].to(DEVICE), batch[1].to(DEVICE)),\n",
    "    update_fn=adversarial_training,\n",
    "    update_fn_kwargs={'adversary': iterated_fgsm,'k': 40, 'step': 0.01, 'eps': 0.3, 'norm': 'inf'},\n",
    "    callbacks=[\n",
    "        olympic.callbacks.Evaluate(val_loader),\n",
    "        olympic.callbacks.ReduceLROnPlateau(patience=5, factor=0.5, min_delta=0.001)\n",
    "    ]\n",
    ")"
   ]
  },
  {
   "cell_type": "code",
   "execution_count": 22,
   "metadata": {
    "scrolled": true
   },
   "outputs": [
    {
     "data": {
      "image/png": "[encoded data removed]",
      "text/plain": [
       "<Figure size 1008x504 with 1 Axes>"
      ]
     },
     "metadata": {
      "needs_background": "light"
     },
     "output_type": "display_data"
    }
   ],
   "source": [
    "df_linf = pd.DataFrame(training_history_linf)\n",
    "plt.figure(figsize=(14,7))\n",
    "plt.plot(df_linf['accuracy'], label='Adversarial accuracy')\n",
    "plt.plot(df_linf['val_accuracy'], label='Natural accuracy')\n",
    "plt.grid()\n",
    "plt.legend()\n",
    "plt.show()"
   ]
  },
  {
   "cell_type": "code",
   "execution_count": 73,
   "metadata": {},
   "outputs": [
    {
     "data": {
      "text/html": [
       "<div>\n",
       "<style scoped>\n",
       "    .dataframe tbody tr th:only-of-type {\n",
       "        vertical-align: middle;\n",
       "    }\n",
       "\n",
       "    .dataframe tbody tr th {\n",
       "        vertical-align: top;\n",
       "    }\n",
       "\n",
       "    .dataframe thead th {\n",
       "        text-align: right;\n",
       "    }\n",
       "</style>\n",
       "<table border=\"1\" class=\"dataframe\">\n",
       "  <thead>\n",
       "    <tr style=\"text-align: right;\">\n",
       "      <th></th>\n",
       "      <th>accuracy</th>\n",
       "      <th>loss</th>\n",
       "      <th>lr</th>\n",
       "      <th>val_accuracy</th>\n",
       "      <th>val_loss</th>\n",
       "    </tr>\n",
       "  </thead>\n",
       "  <tbody>\n",
       "    <tr>\n",
       "      <th>0</th>\n",
       "      <td>0.260211</td>\n",
       "      <td>2.075853</td>\n",
       "      <td>0.100</td>\n",
       "      <td>0.8465</td>\n",
       "      <td>0.641448</td>\n",
       "    </tr>\n",
       "    <tr>\n",
       "      <th>1</th>\n",
       "      <td>0.537047</td>\n",
       "      <td>1.332446</td>\n",
       "      <td>0.100</td>\n",
       "      <td>0.8134</td>\n",
       "      <td>0.527047</td>\n",
       "    </tr>\n",
       "    <tr>\n",
       "      <th>2</th>\n",
       "      <td>0.669543</td>\n",
       "      <td>0.973299</td>\n",
       "      <td>0.100</td>\n",
       "      <td>0.8621</td>\n",
       "      <td>0.395656</td>\n",
       "    </tr>\n",
       "    <tr>\n",
       "      <th>3</th>\n",
       "      <td>0.749478</td>\n",
       "      <td>0.748676</td>\n",
       "      <td>0.100</td>\n",
       "      <td>0.8883</td>\n",
       "      <td>0.316340</td>\n",
       "    </tr>\n",
       "    <tr>\n",
       "      <th>4</th>\n",
       "      <td>0.793371</td>\n",
       "      <td>0.620724</td>\n",
       "      <td>0.100</td>\n",
       "      <td>0.9031</td>\n",
       "      <td>0.284362</td>\n",
       "    </tr>\n",
       "    <tr>\n",
       "      <th>5</th>\n",
       "      <td>0.817575</td>\n",
       "      <td>0.551046</td>\n",
       "      <td>0.100</td>\n",
       "      <td>0.9157</td>\n",
       "      <td>0.245494</td>\n",
       "    </tr>\n",
       "    <tr>\n",
       "      <th>6</th>\n",
       "      <td>0.832478</td>\n",
       "      <td>0.507054</td>\n",
       "      <td>0.100</td>\n",
       "      <td>0.9256</td>\n",
       "      <td>0.222513</td>\n",
       "    </tr>\n",
       "    <tr>\n",
       "      <th>7</th>\n",
       "      <td>0.844078</td>\n",
       "      <td>0.474567</td>\n",
       "      <td>0.100</td>\n",
       "      <td>0.9272</td>\n",
       "      <td>0.213822</td>\n",
       "    </tr>\n",
       "    <tr>\n",
       "      <th>8</th>\n",
       "      <td>0.851290</td>\n",
       "      <td>0.450760</td>\n",
       "      <td>0.100</td>\n",
       "      <td>0.9228</td>\n",
       "      <td>0.221380</td>\n",
       "    </tr>\n",
       "    <tr>\n",
       "      <th>9</th>\n",
       "      <td>0.857615</td>\n",
       "      <td>0.433789</td>\n",
       "      <td>0.100</td>\n",
       "      <td>0.9333</td>\n",
       "      <td>0.195395</td>\n",
       "    </tr>\n",
       "    <tr>\n",
       "      <th>10</th>\n",
       "      <td>0.863145</td>\n",
       "      <td>0.417565</td>\n",
       "      <td>0.100</td>\n",
       "      <td>0.9371</td>\n",
       "      <td>0.189196</td>\n",
       "    </tr>\n",
       "    <tr>\n",
       "      <th>11</th>\n",
       "      <td>0.867249</td>\n",
       "      <td>0.403862</td>\n",
       "      <td>0.100</td>\n",
       "      <td>0.9406</td>\n",
       "      <td>0.178181</td>\n",
       "    </tr>\n",
       "    <tr>\n",
       "      <th>12</th>\n",
       "      <td>0.871135</td>\n",
       "      <td>0.390936</td>\n",
       "      <td>0.100</td>\n",
       "      <td>0.9462</td>\n",
       "      <td>0.163499</td>\n",
       "    </tr>\n",
       "    <tr>\n",
       "      <th>13</th>\n",
       "      <td>0.873495</td>\n",
       "      <td>0.382070</td>\n",
       "      <td>0.100</td>\n",
       "      <td>0.9492</td>\n",
       "      <td>0.156868</td>\n",
       "    </tr>\n",
       "    <tr>\n",
       "      <th>14</th>\n",
       "      <td>0.876971</td>\n",
       "      <td>0.372697</td>\n",
       "      <td>0.100</td>\n",
       "      <td>0.9472</td>\n",
       "      <td>0.159211</td>\n",
       "    </tr>\n",
       "    <tr>\n",
       "      <th>15</th>\n",
       "      <td>0.879370</td>\n",
       "      <td>0.365103</td>\n",
       "      <td>0.100</td>\n",
       "      <td>0.9488</td>\n",
       "      <td>0.154997</td>\n",
       "    </tr>\n",
       "    <tr>\n",
       "      <th>16</th>\n",
       "      <td>0.881474</td>\n",
       "      <td>0.356713</td>\n",
       "      <td>0.100</td>\n",
       "      <td>0.9521</td>\n",
       "      <td>0.145710</td>\n",
       "    </tr>\n",
       "    <tr>\n",
       "      <th>17</th>\n",
       "      <td>0.884828</td>\n",
       "      <td>0.349986</td>\n",
       "      <td>0.100</td>\n",
       "      <td>0.9538</td>\n",
       "      <td>0.142266</td>\n",
       "    </tr>\n",
       "    <tr>\n",
       "      <th>18</th>\n",
       "      <td>0.887293</td>\n",
       "      <td>0.342086</td>\n",
       "      <td>0.100</td>\n",
       "      <td>0.9561</td>\n",
       "      <td>0.133789</td>\n",
       "    </tr>\n",
       "    <tr>\n",
       "      <th>19</th>\n",
       "      <td>0.889192</td>\n",
       "      <td>0.336818</td>\n",
       "      <td>0.100</td>\n",
       "      <td>0.9555</td>\n",
       "      <td>0.135986</td>\n",
       "    </tr>\n",
       "    <tr>\n",
       "      <th>20</th>\n",
       "      <td>0.891091</td>\n",
       "      <td>0.330231</td>\n",
       "      <td>0.100</td>\n",
       "      <td>0.9568</td>\n",
       "      <td>0.129010</td>\n",
       "    </tr>\n",
       "    <tr>\n",
       "      <th>21</th>\n",
       "      <td>0.893179</td>\n",
       "      <td>0.324203</td>\n",
       "      <td>0.100</td>\n",
       "      <td>0.9586</td>\n",
       "      <td>0.122406</td>\n",
       "    </tr>\n",
       "    <tr>\n",
       "      <th>22</th>\n",
       "      <td>0.894828</td>\n",
       "      <td>0.319383</td>\n",
       "      <td>0.100</td>\n",
       "      <td>0.9581</td>\n",
       "      <td>0.123024</td>\n",
       "    </tr>\n",
       "    <tr>\n",
       "      <th>23</th>\n",
       "      <td>0.896361</td>\n",
       "      <td>0.313540</td>\n",
       "      <td>0.100</td>\n",
       "      <td>0.9589</td>\n",
       "      <td>0.122206</td>\n",
       "    </tr>\n",
       "    <tr>\n",
       "      <th>24</th>\n",
       "      <td>0.897344</td>\n",
       "      <td>0.309380</td>\n",
       "      <td>0.100</td>\n",
       "      <td>0.9594</td>\n",
       "      <td>0.117393</td>\n",
       "    </tr>\n",
       "    <tr>\n",
       "      <th>25</th>\n",
       "      <td>0.898876</td>\n",
       "      <td>0.304997</td>\n",
       "      <td>0.100</td>\n",
       "      <td>0.9609</td>\n",
       "      <td>0.112214</td>\n",
       "    </tr>\n",
       "    <tr>\n",
       "      <th>26</th>\n",
       "      <td>0.900309</td>\n",
       "      <td>0.300004</td>\n",
       "      <td>0.100</td>\n",
       "      <td>0.9553</td>\n",
       "      <td>0.126935</td>\n",
       "    </tr>\n",
       "    <tr>\n",
       "      <th>27</th>\n",
       "      <td>0.901297</td>\n",
       "      <td>0.297800</td>\n",
       "      <td>0.100</td>\n",
       "      <td>0.9573</td>\n",
       "      <td>0.120330</td>\n",
       "    </tr>\n",
       "    <tr>\n",
       "      <th>28</th>\n",
       "      <td>0.902724</td>\n",
       "      <td>0.293362</td>\n",
       "      <td>0.100</td>\n",
       "      <td>0.9559</td>\n",
       "      <td>0.122599</td>\n",
       "    </tr>\n",
       "    <tr>\n",
       "      <th>29</th>\n",
       "      <td>0.903785</td>\n",
       "      <td>0.288647</td>\n",
       "      <td>0.100</td>\n",
       "      <td>0.9632</td>\n",
       "      <td>0.106220</td>\n",
       "    </tr>\n",
       "    <tr>\n",
       "      <th>30</th>\n",
       "      <td>0.905312</td>\n",
       "      <td>0.286126</td>\n",
       "      <td>0.100</td>\n",
       "      <td>0.9571</td>\n",
       "      <td>0.116607</td>\n",
       "    </tr>\n",
       "    <tr>\n",
       "      <th>31</th>\n",
       "      <td>0.905828</td>\n",
       "      <td>0.283087</td>\n",
       "      <td>0.100</td>\n",
       "      <td>0.9579</td>\n",
       "      <td>0.115666</td>\n",
       "    </tr>\n",
       "    <tr>\n",
       "      <th>32</th>\n",
       "      <td>0.907050</td>\n",
       "      <td>0.280372</td>\n",
       "      <td>0.100</td>\n",
       "      <td>0.9598</td>\n",
       "      <td>0.113009</td>\n",
       "    </tr>\n",
       "    <tr>\n",
       "      <th>33</th>\n",
       "      <td>0.907783</td>\n",
       "      <td>0.278116</td>\n",
       "      <td>0.100</td>\n",
       "      <td>0.9665</td>\n",
       "      <td>0.097100</td>\n",
       "    </tr>\n",
       "    <tr>\n",
       "      <th>34</th>\n",
       "      <td>0.908577</td>\n",
       "      <td>0.275113</td>\n",
       "      <td>0.100</td>\n",
       "      <td>0.9654</td>\n",
       "      <td>0.101676</td>\n",
       "    </tr>\n",
       "    <tr>\n",
       "      <th>35</th>\n",
       "      <td>0.909104</td>\n",
       "      <td>0.272842</td>\n",
       "      <td>0.100</td>\n",
       "      <td>0.9624</td>\n",
       "      <td>0.105507</td>\n",
       "    </tr>\n",
       "    <tr>\n",
       "      <th>36</th>\n",
       "      <td>0.909676</td>\n",
       "      <td>0.271027</td>\n",
       "      <td>0.100</td>\n",
       "      <td>0.9597</td>\n",
       "      <td>0.110050</td>\n",
       "    </tr>\n",
       "    <tr>\n",
       "      <th>37</th>\n",
       "      <td>0.910276</td>\n",
       "      <td>0.269843</td>\n",
       "      <td>0.100</td>\n",
       "      <td>0.9626</td>\n",
       "      <td>0.104787</td>\n",
       "    </tr>\n",
       "    <tr>\n",
       "      <th>38</th>\n",
       "      <td>0.911097</td>\n",
       "      <td>0.266370</td>\n",
       "      <td>0.100</td>\n",
       "      <td>0.9651</td>\n",
       "      <td>0.097593</td>\n",
       "    </tr>\n",
       "    <tr>\n",
       "      <th>39</th>\n",
       "      <td>0.918710</td>\n",
       "      <td>0.242881</td>\n",
       "      <td>0.050</td>\n",
       "      <td>0.9802</td>\n",
       "      <td>0.061078</td>\n",
       "    </tr>\n",
       "    <tr>\n",
       "      <th>40</th>\n",
       "      <td>0.919676</td>\n",
       "      <td>0.240376</td>\n",
       "      <td>0.050</td>\n",
       "      <td>0.9802</td>\n",
       "      <td>0.060831</td>\n",
       "    </tr>\n",
       "    <tr>\n",
       "      <th>41</th>\n",
       "      <td>0.920037</td>\n",
       "      <td>0.239513</td>\n",
       "      <td>0.050</td>\n",
       "      <td>0.9802</td>\n",
       "      <td>0.061129</td>\n",
       "    </tr>\n",
       "    <tr>\n",
       "      <th>42</th>\n",
       "      <td>0.920404</td>\n",
       "      <td>0.238300</td>\n",
       "      <td>0.050</td>\n",
       "      <td>0.9804</td>\n",
       "      <td>0.061551</td>\n",
       "    </tr>\n",
       "    <tr>\n",
       "      <th>43</th>\n",
       "      <td>0.921042</td>\n",
       "      <td>0.237927</td>\n",
       "      <td>0.050</td>\n",
       "      <td>0.9807</td>\n",
       "      <td>0.060206</td>\n",
       "    </tr>\n",
       "    <tr>\n",
       "      <th>44</th>\n",
       "      <td>0.920792</td>\n",
       "      <td>0.236854</td>\n",
       "      <td>0.050</td>\n",
       "      <td>0.9807</td>\n",
       "      <td>0.060670</td>\n",
       "    </tr>\n",
       "    <tr>\n",
       "      <th>45</th>\n",
       "      <td>0.923874</td>\n",
       "      <td>0.227302</td>\n",
       "      <td>0.025</td>\n",
       "      <td>0.9824</td>\n",
       "      <td>0.056269</td>\n",
       "    </tr>\n",
       "    <tr>\n",
       "      <th>46</th>\n",
       "      <td>0.924257</td>\n",
       "      <td>0.225868</td>\n",
       "      <td>0.025</td>\n",
       "      <td>0.9826</td>\n",
       "      <td>0.055935</td>\n",
       "    </tr>\n",
       "    <tr>\n",
       "      <th>47</th>\n",
       "      <td>0.924607</td>\n",
       "      <td>0.224758</td>\n",
       "      <td>0.025</td>\n",
       "      <td>0.9827</td>\n",
       "      <td>0.055769</td>\n",
       "    </tr>\n",
       "    <tr>\n",
       "      <th>48</th>\n",
       "      <td>0.924140</td>\n",
       "      <td>0.224911</td>\n",
       "      <td>0.025</td>\n",
       "      <td>0.9825</td>\n",
       "      <td>0.055793</td>\n",
       "    </tr>\n",
       "    <tr>\n",
       "      <th>49</th>\n",
       "      <td>0.924240</td>\n",
       "      <td>0.224196</td>\n",
       "      <td>0.025</td>\n",
       "      <td>0.9827</td>\n",
       "      <td>0.055516</td>\n",
       "    </tr>\n",
       "  </tbody>\n",
       "</table>\n",
       "</div>"
      ],
      "text/plain": [
       "    accuracy      loss     lr  val_accuracy  val_loss\n",
       "0   0.260211  2.075853  0.100        0.8465  0.641448\n",
       "1   0.537047  1.332446  0.100        0.8134  0.527047\n",
       "2   0.669543  0.973299  0.100        0.8621  0.395656\n",
       "3   0.749478  0.748676  0.100        0.8883  0.316340\n",
       "4   0.793371  0.620724  0.100        0.9031  0.284362\n",
       "5   0.817575  0.551046  0.100        0.9157  0.245494\n",
       "6   0.832478  0.507054  0.100        0.9256  0.222513\n",
       "7   0.844078  0.474567  0.100        0.9272  0.213822\n",
       "8   0.851290  0.450760  0.100        0.9228  0.221380\n",
       "9   0.857615  0.433789  0.100        0.9333  0.195395\n",
       "10  0.863145  0.417565  0.100        0.9371  0.189196\n",
       "11  0.867249  0.403862  0.100        0.9406  0.178181\n",
       "12  0.871135  0.390936  0.100        0.9462  0.163499\n",
       "13  0.873495  0.382070  0.100        0.9492  0.156868\n",
       "14  0.876971  0.372697  0.100        0.9472  0.159211\n",
       "15  0.879370  0.365103  0.100        0.9488  0.154997\n",
       "16  0.881474  0.356713  0.100        0.9521  0.145710\n",
       "17  0.884828  0.349986  0.100        0.9538  0.142266\n",
       "18  0.887293  0.342086  0.100        0.9561  0.133789\n",
       "19  0.889192  0.336818  0.100        0.9555  0.135986\n",
       "20  0.891091  0.330231  0.100        0.9568  0.129010\n",
       "21  0.893179  0.324203  0.100        0.9586  0.122406\n",
       "22  0.894828  0.319383  0.100        0.9581  0.123024\n",
       "23  0.896361  0.313540  0.100        0.9589  0.122206\n",
       "24  0.897344  0.309380  0.100        0.9594  0.117393\n",
       "25  0.898876  0.304997  0.100        0.9609  0.112214\n",
       "26  0.900309  0.300004  0.100        0.9553  0.126935\n",
       "27  0.901297  0.297800  0.100        0.9573  0.120330\n",
       "28  0.902724  0.293362  0.100        0.9559  0.122599\n",
       "29  0.903785  0.288647  0.100        0.9632  0.106220\n",
       "30  0.905312  0.286126  0.100        0.9571  0.116607\n",
       "31  0.905828  0.283087  0.100        0.9579  0.115666\n",
       "32  0.907050  0.280372  0.100        0.9598  0.113009\n",
       "33  0.907783  0.278116  0.100        0.9665  0.097100\n",
       "34  0.908577  0.275113  0.100        0.9654  0.101676\n",
       "35  0.909104  0.272842  0.100        0.9624  0.105507\n",
       "36  0.909676  0.271027  0.100        0.9597  0.110050\n",
       "37  0.910276  0.269843  0.100        0.9626  0.104787\n",
       "38  0.911097  0.266370  0.100        0.9651  0.097593\n",
       "39  0.918710  0.242881  0.050        0.9802  0.061078\n",
       "40  0.919676  0.240376  0.050        0.9802  0.060831\n",
       "41  0.920037  0.239513  0.050        0.9802  0.061129\n",
       "42  0.920404  0.238300  0.050        0.9804  0.061551\n",
       "43  0.921042  0.237927  0.050        0.9807  0.060206\n",
       "44  0.920792  0.236854  0.050        0.9807  0.060670\n",
       "45  0.923874  0.227302  0.025        0.9824  0.056269\n",
       "46  0.924257  0.225868  0.025        0.9826  0.055935\n",
       "47  0.924607  0.224758  0.025        0.9827  0.055769\n",
       "48  0.924140  0.224911  0.025        0.9825  0.055793\n",
       "49  0.924240  0.224196  0.025        0.9827  0.055516"
      ]
     },
     "execution_count": 73,
     "metadata": {},
     "output_type": "execute_result"
    }
   ],
   "source": [
    "df_linf"
   ]
  },
  {
   "cell_type": "code",
   "execution_count": 24,
   "metadata": {
    "scrolled": true
   },
   "outputs": [
    {
     "name": "stderr",
     "output_type": "stream",
     "text": [
      "\r",
      "Epoch 1:   0%|          | 0/469 [00:00<?, ?it/s]"
     ]
    },
    {
     "name": "stdout",
     "output_type": "stream",
     "text": [
      "Begin training...\n"
     ]
    },
    {
     "name": "stderr",
     "output_type": "stream",
     "text": [
      "Epoch 1: 100%|██████████| 469/469 [01:38<00:00,  2.62it/s, loss=1.73, accuracy=0.363, val_loss=0.452, val_accuracy=0.887]\n",
      "Epoch 2: 100%|██████████| 469/469 [01:38<00:00,  2.61it/s, loss=1.42, accuracy=0.452, val_loss=0.394, val_accuracy=0.9]\n",
      "Epoch 3: 100%|██████████| 469/469 [01:38<00:00,  2.60it/s, loss=1.35, accuracy=0.471, val_loss=0.382, val_accuracy=0.906]\n",
      "Epoch 4: 100%|██████████| 469/469 [01:38<00:00,  2.61it/s, loss=1.31, accuracy=0.481, val_loss=0.372, val_accuracy=0.91]\n",
      "Epoch 5: 100%|██████████| 469/469 [01:39<00:00,  2.68it/s, loss=1.29, accuracy=0.49, val_loss=0.361, val_accuracy=0.916]\n",
      "Epoch 6: 100%|██████████| 469/469 [01:38<00:00,  2.61it/s, loss=1.26, accuracy=0.496, val_loss=0.359, val_accuracy=0.914]\n",
      "Epoch 7: 100%|██████████| 469/469 [01:39<00:00,  2.61it/s, loss=1.25, accuracy=0.501, val_loss=0.353, val_accuracy=0.916]\n",
      "Epoch 8: 100%|██████████| 469/469 [01:38<00:00,  2.58it/s, loss=1.23, accuracy=0.507, val_loss=0.346, val_accuracy=0.918]\n",
      "Epoch 9: 100%|██████████| 469/469 [01:37<00:00,  2.63it/s, loss=1.22, accuracy=0.511, val_loss=0.34, val_accuracy=0.92]\n",
      "Epoch 10: 100%|██████████| 469/469 [01:37<00:00,  2.62it/s, loss=1.21, accuracy=0.515, val_loss=0.334, val_accuracy=0.922]\n",
      "Epoch 11: 100%|██████████| 469/469 [01:37<00:00,  2.64it/s, loss=1.19, accuracy=0.518, val_loss=0.329, val_accuracy=0.924]\n",
      "Epoch 12: 100%|██████████| 469/469 [01:37<00:00,  2.65it/s, loss=1.19, accuracy=0.521, val_loss=0.328, val_accuracy=0.924]\n",
      "Epoch 13: 100%|██████████| 469/469 [01:37<00:00,  2.61it/s, loss=1.18, accuracy=0.523, val_loss=0.323, val_accuracy=0.927]\n",
      "Epoch 14: 100%|██████████| 469/469 [01:36<00:00,  2.63it/s, loss=1.17, accuracy=0.526, val_loss=0.321, val_accuracy=0.928]\n",
      "Epoch 15: 100%|██████████| 469/469 [01:37<00:00,  2.65it/s, loss=1.16, accuracy=0.528, val_loss=0.32, val_accuracy=0.93]\n",
      "Epoch 16: 100%|██████████| 469/469 [01:37<00:00,  2.63it/s, loss=1.16, accuracy=0.529, val_loss=0.317, val_accuracy=0.93]\n",
      "Epoch 17: 100%|██████████| 469/469 [01:37<00:00,  2.67it/s, loss=1.15, accuracy=0.531, val_loss=0.314, val_accuracy=0.93]\n",
      "Epoch 18: 100%|██████████| 469/469 [01:37<00:00,  2.63it/s, loss=1.15, accuracy=0.533, val_loss=0.313, val_accuracy=0.931]\n",
      "Epoch 19: 100%|██████████| 469/469 [01:36<00:00,  2.71it/s, loss=1.14, accuracy=0.534, val_loss=0.312, val_accuracy=0.932]\n",
      "Epoch 20: 100%|██████████| 469/469 [01:37<00:00,  2.65it/s, loss=1.14, accuracy=0.534, val_loss=0.31, val_accuracy=0.932]\n",
      "Epoch 21: 100%|██████████| 469/469 [01:37<00:00,  2.62it/s, loss=1.14, accuracy=0.536, val_loss=0.31, val_accuracy=0.932]\n",
      "Epoch 22: 100%|██████████| 469/469 [01:37<00:00,  2.57it/s, loss=1.13, accuracy=0.536, val_loss=0.309, val_accuracy=0.932]\n",
      "Epoch 23: 100%|██████████| 469/469 [01:37<00:00,  2.63it/s, loss=1.13, accuracy=0.537, val_loss=0.306, val_accuracy=0.933]\n",
      "Epoch 24: 100%|██████████| 469/469 [01:36<00:00,  2.65it/s, loss=1.13, accuracy=0.538, val_loss=0.305, val_accuracy=0.934]\n",
      "Epoch 25: 100%|██████████| 469/469 [01:37<00:00,  2.64it/s, loss=1.12, accuracy=0.538, val_loss=0.303, val_accuracy=0.933]\n",
      "Epoch 26: 100%|██████████| 469/469 [01:37<00:00,  2.61it/s, loss=1.12, accuracy=0.539, val_loss=0.302, val_accuracy=0.934]\n",
      "Epoch 27: 100%|██████████| 469/469 [01:37<00:00,  2.65it/s, loss=1.12, accuracy=0.539, val_loss=0.299, val_accuracy=0.934]\n",
      "Epoch 28: 100%|██████████| 469/469 [01:37<00:00,  2.65it/s, loss=1.12, accuracy=0.54, val_loss=0.299, val_accuracy=0.935]\n",
      "Epoch 29: 100%|██████████| 469/469 [01:37<00:00,  2.62it/s, loss=1.11, accuracy=0.541, val_loss=0.296, val_accuracy=0.936]\n",
      "Epoch 30: 100%|██████████| 469/469 [01:37<00:00,  2.63it/s, loss=1.11, accuracy=0.541, val_loss=0.295, val_accuracy=0.936]\n",
      "Epoch 31: 100%|██████████| 469/469 [01:36<00:00,  2.67it/s, loss=1.11, accuracy=0.541, val_loss=0.295, val_accuracy=0.936]\n",
      "Epoch 32: 100%|██████████| 469/469 [01:37<00:00,  2.61it/s, loss=1.11, accuracy=0.542, val_loss=0.293, val_accuracy=0.936]\n",
      "Epoch 33: 100%|██████████| 469/469 [01:37<00:00,  2.57it/s, loss=1.11, accuracy=0.543, val_loss=0.292, val_accuracy=0.937]\n",
      "Epoch 34: 100%|██████████| 469/469 [01:36<00:00,  2.61it/s, loss=1.1, accuracy=0.543, val_loss=0.293, val_accuracy=0.938]\n",
      "Epoch 35: 100%|██████████| 469/469 [01:36<00:00,  2.67it/s, loss=1.1, accuracy=0.544, val_loss=0.292, val_accuracy=0.938]\n",
      "Epoch 36: 100%|██████████| 469/469 [01:37<00:00,  2.62it/s, loss=1.1, accuracy=0.545, val_loss=0.292, val_accuracy=0.94]\n",
      "Epoch 37: 100%|██████████| 469/469 [01:36<00:00,  2.66it/s, loss=1.1, accuracy=0.545, val_loss=0.29, val_accuracy=0.941]\n",
      "Epoch 38: 100%|██████████| 469/469 [01:36<00:00,  2.67it/s, loss=1.1, accuracy=0.546, val_loss=0.29, val_accuracy=0.941]\n",
      "Epoch 39: 100%|██████████| 469/469 [01:37<00:00,  2.61it/s, loss=1.1, accuracy=0.546, val_loss=0.29, val_accuracy=0.941]\n",
      "Epoch 40: 100%|██████████| 469/469 [01:37<00:00,  2.66it/s, loss=1.1, accuracy=0.546, val_loss=0.29, val_accuracy=0.942]\n",
      "Epoch 41: 100%|██████████| 469/469 [01:36<00:00,  2.71it/s, loss=1.1, accuracy=0.547, val_loss=0.289, val_accuracy=0.942]\n",
      "Epoch 42: 100%|██████████| 469/469 [01:37<00:00,  2.61it/s, loss=1.1, accuracy=0.547, val_loss=0.288, val_accuracy=0.943]\n",
      "Epoch 43: 100%|██████████| 469/469 [01:37<00:00,  2.61it/s, loss=1.09, accuracy=0.548, val_loss=0.288, val_accuracy=0.943]\n",
      "Epoch 44: 100%|██████████| 469/469 [01:37<00:00,  2.58it/s, loss=1.09, accuracy=0.548, val_loss=0.288, val_accuracy=0.944]\n",
      "Epoch 45: 100%|██████████| 469/469 [01:37<00:00,  2.62it/s, loss=1.09, accuracy=0.548, val_loss=0.286, val_accuracy=0.944]\n",
      "Epoch 46: 100%|██████████| 469/469 [01:37<00:00,  2.61it/s, loss=1.09, accuracy=0.547, val_loss=0.286, val_accuracy=0.944]\n",
      "Epoch 47: 100%|██████████| 469/469 [01:37<00:00,  2.65it/s, loss=1.09, accuracy=0.548, val_loss=0.287, val_accuracy=0.944]\n",
      "Epoch 48: 100%|██████████| 469/469 [01:37<00:00,  2.67it/s, loss=1.09, accuracy=0.548, val_loss=0.285, val_accuracy=0.945]\n",
      "Epoch 49: 100%|██████████| 469/469 [01:36<00:00,  2.64it/s, loss=1.09, accuracy=0.548, val_loss=0.285, val_accuracy=0.945]\n",
      "Epoch 50: 100%|██████████| 469/469 [01:36<00:00,  2.67it/s, loss=1.09, accuracy=0.548, val_loss=0.287, val_accuracy=0.944]"
     ]
    },
    {
     "name": "stdout",
     "output_type": "stream",
     "text": [
      "Finished.\n"
     ]
    },
    {
     "name": "stderr",
     "output_type": "stream",
     "text": [
      "\n"
     ]
    }
   ],
   "source": [
    "adv_model_l2 = Net().to(DEVICE)\n",
    "optimiser = optim.SGD(adv_model_l2.parameters(), lr=0.1)\n",
    "training_history_l2 = olympic.fit(\n",
    "    adv_model_l2,\n",
    "    optimiser,\n",
    "    nn.CrossEntropyLoss(),\n",
    "    dataloader=train_loader,\n",
    "    epochs=50,\n",
    "    metrics=['accuracy'],\n",
    "    prepare_batch = lambda batch: (batch[0].to(DEVICE), batch[1].to(DEVICE)),\n",
    "    update_fn=adversarial_training,\n",
    "    update_fn_kwargs={'adversary': pgd, 'k': 40, 'step': 0.1, 'eps': 3.0, 'norm': 2},\n",
    "    callbacks=[\n",
    "        olympic.callbacks.Evaluate(val_loader),\n",
    "        olympic.callbacks.ReduceLROnPlateau(patience=5, factor=0.5, min_delta=0.001)\n",
    "    ]\n",
    ")"
   ]
  },
  {
   "cell_type": "code",
   "execution_count": 72,
   "metadata": {
    "collapsed": true
   },
   "outputs": [
    {
     "data": {
      "text/html": [
       "<div>\n",
       "<style scoped>\n",
       "    .dataframe tbody tr th:only-of-type {\n",
       "        vertical-align: middle;\n",
       "    }\n",
       "\n",
       "    .dataframe tbody tr th {\n",
       "        vertical-align: top;\n",
       "    }\n",
       "\n",
       "    .dataframe thead th {\n",
       "        text-align: right;\n",
       "    }\n",
       "</style>\n",
       "<table border=\"1\" class=\"dataframe\">\n",
       "  <thead>\n",
       "    <tr style=\"text-align: right;\">\n",
       "      <th></th>\n",
       "      <th>accuracy</th>\n",
       "      <th>loss</th>\n",
       "      <th>lr</th>\n",
       "      <th>val_accuracy</th>\n",
       "      <th>val_loss</th>\n",
       "    </tr>\n",
       "  </thead>\n",
       "  <tbody>\n",
       "    <tr>\n",
       "      <th>0</th>\n",
       "      <td>0.362584</td>\n",
       "      <td>1.725949</td>\n",
       "      <td>0.1</td>\n",
       "      <td>0.8874</td>\n",
       "      <td>0.451627</td>\n",
       "    </tr>\n",
       "    <tr>\n",
       "      <th>1</th>\n",
       "      <td>0.452425</td>\n",
       "      <td>1.415023</td>\n",
       "      <td>0.1</td>\n",
       "      <td>0.9005</td>\n",
       "      <td>0.394479</td>\n",
       "    </tr>\n",
       "    <tr>\n",
       "      <th>2</th>\n",
       "      <td>0.471349</td>\n",
       "      <td>1.348981</td>\n",
       "      <td>0.1</td>\n",
       "      <td>0.9064</td>\n",
       "      <td>0.381601</td>\n",
       "    </tr>\n",
       "    <tr>\n",
       "      <th>3</th>\n",
       "      <td>0.480788</td>\n",
       "      <td>1.313640</td>\n",
       "      <td>0.1</td>\n",
       "      <td>0.9098</td>\n",
       "      <td>0.371509</td>\n",
       "    </tr>\n",
       "    <tr>\n",
       "      <th>4</th>\n",
       "      <td>0.489606</td>\n",
       "      <td>1.287366</td>\n",
       "      <td>0.1</td>\n",
       "      <td>0.9156</td>\n",
       "      <td>0.360855</td>\n",
       "    </tr>\n",
       "    <tr>\n",
       "      <th>5</th>\n",
       "      <td>0.496413</td>\n",
       "      <td>1.264791</td>\n",
       "      <td>0.1</td>\n",
       "      <td>0.9141</td>\n",
       "      <td>0.359256</td>\n",
       "    </tr>\n",
       "    <tr>\n",
       "      <th>6</th>\n",
       "      <td>0.500861</td>\n",
       "      <td>1.246733</td>\n",
       "      <td>0.1</td>\n",
       "      <td>0.9160</td>\n",
       "      <td>0.353207</td>\n",
       "    </tr>\n",
       "    <tr>\n",
       "      <th>7</th>\n",
       "      <td>0.507018</td>\n",
       "      <td>1.230206</td>\n",
       "      <td>0.1</td>\n",
       "      <td>0.9176</td>\n",
       "      <td>0.345897</td>\n",
       "    </tr>\n",
       "    <tr>\n",
       "      <th>8</th>\n",
       "      <td>0.511172</td>\n",
       "      <td>1.216653</td>\n",
       "      <td>0.1</td>\n",
       "      <td>0.9200</td>\n",
       "      <td>0.340429</td>\n",
       "    </tr>\n",
       "    <tr>\n",
       "      <th>9</th>\n",
       "      <td>0.514570</td>\n",
       "      <td>1.205250</td>\n",
       "      <td>0.1</td>\n",
       "      <td>0.9216</td>\n",
       "      <td>0.334290</td>\n",
       "    </tr>\n",
       "    <tr>\n",
       "      <th>10</th>\n",
       "      <td>0.518318</td>\n",
       "      <td>1.194812</td>\n",
       "      <td>0.1</td>\n",
       "      <td>0.9237</td>\n",
       "      <td>0.329144</td>\n",
       "    </tr>\n",
       "    <tr>\n",
       "      <th>11</th>\n",
       "      <td>0.521500</td>\n",
       "      <td>1.185221</td>\n",
       "      <td>0.1</td>\n",
       "      <td>0.9242</td>\n",
       "      <td>0.327808</td>\n",
       "    </tr>\n",
       "    <tr>\n",
       "      <th>12</th>\n",
       "      <td>0.523438</td>\n",
       "      <td>1.176947</td>\n",
       "      <td>0.1</td>\n",
       "      <td>0.9275</td>\n",
       "      <td>0.323151</td>\n",
       "    </tr>\n",
       "    <tr>\n",
       "      <th>13</th>\n",
       "      <td>0.526258</td>\n",
       "      <td>1.170058</td>\n",
       "      <td>0.1</td>\n",
       "      <td>0.9283</td>\n",
       "      <td>0.321108</td>\n",
       "    </tr>\n",
       "    <tr>\n",
       "      <th>14</th>\n",
       "      <td>0.527591</td>\n",
       "      <td>1.164042</td>\n",
       "      <td>0.1</td>\n",
       "      <td>0.9296</td>\n",
       "      <td>0.319913</td>\n",
       "    </tr>\n",
       "    <tr>\n",
       "      <th>15</th>\n",
       "      <td>0.529412</td>\n",
       "      <td>1.158424</td>\n",
       "      <td>0.1</td>\n",
       "      <td>0.9303</td>\n",
       "      <td>0.317287</td>\n",
       "    </tr>\n",
       "    <tr>\n",
       "      <th>16</th>\n",
       "      <td>0.531050</td>\n",
       "      <td>1.153465</td>\n",
       "      <td>0.1</td>\n",
       "      <td>0.9303</td>\n",
       "      <td>0.314076</td>\n",
       "    </tr>\n",
       "    <tr>\n",
       "      <th>17</th>\n",
       "      <td>0.532599</td>\n",
       "      <td>1.148889</td>\n",
       "      <td>0.1</td>\n",
       "      <td>0.9309</td>\n",
       "      <td>0.313304</td>\n",
       "    </tr>\n",
       "    <tr>\n",
       "      <th>18</th>\n",
       "      <td>0.533577</td>\n",
       "      <td>1.144726</td>\n",
       "      <td>0.1</td>\n",
       "      <td>0.9318</td>\n",
       "      <td>0.311594</td>\n",
       "    </tr>\n",
       "    <tr>\n",
       "      <th>19</th>\n",
       "      <td>0.533893</td>\n",
       "      <td>1.140786</td>\n",
       "      <td>0.1</td>\n",
       "      <td>0.9322</td>\n",
       "      <td>0.309933</td>\n",
       "    </tr>\n",
       "    <tr>\n",
       "      <th>20</th>\n",
       "      <td>0.535659</td>\n",
       "      <td>1.137175</td>\n",
       "      <td>0.1</td>\n",
       "      <td>0.9322</td>\n",
       "      <td>0.310250</td>\n",
       "    </tr>\n",
       "    <tr>\n",
       "      <th>21</th>\n",
       "      <td>0.536320</td>\n",
       "      <td>1.133841</td>\n",
       "      <td>0.1</td>\n",
       "      <td>0.9325</td>\n",
       "      <td>0.309367</td>\n",
       "    </tr>\n",
       "    <tr>\n",
       "      <th>22</th>\n",
       "      <td>0.537052</td>\n",
       "      <td>1.130483</td>\n",
       "      <td>0.1</td>\n",
       "      <td>0.9329</td>\n",
       "      <td>0.306429</td>\n",
       "    </tr>\n",
       "    <tr>\n",
       "      <th>23</th>\n",
       "      <td>0.537952</td>\n",
       "      <td>1.127566</td>\n",
       "      <td>0.1</td>\n",
       "      <td>0.9338</td>\n",
       "      <td>0.304991</td>\n",
       "    </tr>\n",
       "    <tr>\n",
       "      <th>24</th>\n",
       "      <td>0.538418</td>\n",
       "      <td>1.124663</td>\n",
       "      <td>0.1</td>\n",
       "      <td>0.9335</td>\n",
       "      <td>0.303314</td>\n",
       "    </tr>\n",
       "    <tr>\n",
       "      <th>25</th>\n",
       "      <td>0.538807</td>\n",
       "      <td>1.121951</td>\n",
       "      <td>0.1</td>\n",
       "      <td>0.9336</td>\n",
       "      <td>0.301830</td>\n",
       "    </tr>\n",
       "    <tr>\n",
       "      <th>26</th>\n",
       "      <td>0.539018</td>\n",
       "      <td>1.119702</td>\n",
       "      <td>0.1</td>\n",
       "      <td>0.9343</td>\n",
       "      <td>0.299280</td>\n",
       "    </tr>\n",
       "    <tr>\n",
       "      <th>27</th>\n",
       "      <td>0.540023</td>\n",
       "      <td>1.116853</td>\n",
       "      <td>0.1</td>\n",
       "      <td>0.9353</td>\n",
       "      <td>0.298763</td>\n",
       "    </tr>\n",
       "    <tr>\n",
       "      <th>28</th>\n",
       "      <td>0.540828</td>\n",
       "      <td>1.114782</td>\n",
       "      <td>0.1</td>\n",
       "      <td>0.9359</td>\n",
       "      <td>0.295892</td>\n",
       "    </tr>\n",
       "    <tr>\n",
       "      <th>29</th>\n",
       "      <td>0.540573</td>\n",
       "      <td>1.112838</td>\n",
       "      <td>0.1</td>\n",
       "      <td>0.9358</td>\n",
       "      <td>0.294854</td>\n",
       "    </tr>\n",
       "    <tr>\n",
       "      <th>30</th>\n",
       "      <td>0.541317</td>\n",
       "      <td>1.110517</td>\n",
       "      <td>0.1</td>\n",
       "      <td>0.9363</td>\n",
       "      <td>0.295265</td>\n",
       "    </tr>\n",
       "    <tr>\n",
       "      <th>31</th>\n",
       "      <td>0.542266</td>\n",
       "      <td>1.108572</td>\n",
       "      <td>0.1</td>\n",
       "      <td>0.9362</td>\n",
       "      <td>0.293490</td>\n",
       "    </tr>\n",
       "    <tr>\n",
       "      <th>32</th>\n",
       "      <td>0.542661</td>\n",
       "      <td>1.106787</td>\n",
       "      <td>0.1</td>\n",
       "      <td>0.9371</td>\n",
       "      <td>0.291609</td>\n",
       "    </tr>\n",
       "    <tr>\n",
       "      <th>33</th>\n",
       "      <td>0.542744</td>\n",
       "      <td>1.104994</td>\n",
       "      <td>0.1</td>\n",
       "      <td>0.9378</td>\n",
       "      <td>0.293014</td>\n",
       "    </tr>\n",
       "    <tr>\n",
       "      <th>34</th>\n",
       "      <td>0.543938</td>\n",
       "      <td>1.103527</td>\n",
       "      <td>0.1</td>\n",
       "      <td>0.9383</td>\n",
       "      <td>0.291913</td>\n",
       "    </tr>\n",
       "    <tr>\n",
       "      <th>35</th>\n",
       "      <td>0.544554</td>\n",
       "      <td>1.102083</td>\n",
       "      <td>0.1</td>\n",
       "      <td>0.9397</td>\n",
       "      <td>0.291570</td>\n",
       "    </tr>\n",
       "    <tr>\n",
       "      <th>36</th>\n",
       "      <td>0.545320</td>\n",
       "      <td>1.100505</td>\n",
       "      <td>0.1</td>\n",
       "      <td>0.9405</td>\n",
       "      <td>0.289576</td>\n",
       "    </tr>\n",
       "    <tr>\n",
       "      <th>37</th>\n",
       "      <td>0.545637</td>\n",
       "      <td>1.099556</td>\n",
       "      <td>0.1</td>\n",
       "      <td>0.9407</td>\n",
       "      <td>0.290031</td>\n",
       "    </tr>\n",
       "    <tr>\n",
       "      <th>38</th>\n",
       "      <td>0.546453</td>\n",
       "      <td>1.098364</td>\n",
       "      <td>0.1</td>\n",
       "      <td>0.9413</td>\n",
       "      <td>0.289595</td>\n",
       "    </tr>\n",
       "    <tr>\n",
       "      <th>39</th>\n",
       "      <td>0.546281</td>\n",
       "      <td>1.097285</td>\n",
       "      <td>0.1</td>\n",
       "      <td>0.9417</td>\n",
       "      <td>0.290052</td>\n",
       "    </tr>\n",
       "    <tr>\n",
       "      <th>40</th>\n",
       "      <td>0.547097</td>\n",
       "      <td>1.095896</td>\n",
       "      <td>0.1</td>\n",
       "      <td>0.9422</td>\n",
       "      <td>0.288964</td>\n",
       "    </tr>\n",
       "    <tr>\n",
       "      <th>41</th>\n",
       "      <td>0.547142</td>\n",
       "      <td>1.095227</td>\n",
       "      <td>0.1</td>\n",
       "      <td>0.9429</td>\n",
       "      <td>0.288117</td>\n",
       "    </tr>\n",
       "    <tr>\n",
       "      <th>42</th>\n",
       "      <td>0.547647</td>\n",
       "      <td>1.094272</td>\n",
       "      <td>0.1</td>\n",
       "      <td>0.9431</td>\n",
       "      <td>0.287870</td>\n",
       "    </tr>\n",
       "    <tr>\n",
       "      <th>43</th>\n",
       "      <td>0.547797</td>\n",
       "      <td>1.093248</td>\n",
       "      <td>0.1</td>\n",
       "      <td>0.9437</td>\n",
       "      <td>0.288051</td>\n",
       "    </tr>\n",
       "    <tr>\n",
       "      <th>44</th>\n",
       "      <td>0.547819</td>\n",
       "      <td>1.092516</td>\n",
       "      <td>0.1</td>\n",
       "      <td>0.9435</td>\n",
       "      <td>0.285590</td>\n",
       "    </tr>\n",
       "    <tr>\n",
       "      <th>45</th>\n",
       "      <td>0.547186</td>\n",
       "      <td>1.091990</td>\n",
       "      <td>0.1</td>\n",
       "      <td>0.9438</td>\n",
       "      <td>0.285948</td>\n",
       "    </tr>\n",
       "    <tr>\n",
       "      <th>46</th>\n",
       "      <td>0.548085</td>\n",
       "      <td>1.091014</td>\n",
       "      <td>0.1</td>\n",
       "      <td>0.9442</td>\n",
       "      <td>0.286685</td>\n",
       "    </tr>\n",
       "    <tr>\n",
       "      <th>47</th>\n",
       "      <td>0.548341</td>\n",
       "      <td>1.090213</td>\n",
       "      <td>0.1</td>\n",
       "      <td>0.9447</td>\n",
       "      <td>0.284771</td>\n",
       "    </tr>\n",
       "    <tr>\n",
       "      <th>48</th>\n",
       "      <td>0.547991</td>\n",
       "      <td>1.089901</td>\n",
       "      <td>0.1</td>\n",
       "      <td>0.9447</td>\n",
       "      <td>0.284969</td>\n",
       "    </tr>\n",
       "    <tr>\n",
       "      <th>49</th>\n",
       "      <td>0.548474</td>\n",
       "      <td>1.089117</td>\n",
       "      <td>0.1</td>\n",
       "      <td>0.9442</td>\n",
       "      <td>0.286674</td>\n",
       "    </tr>\n",
       "  </tbody>\n",
       "</table>\n",
       "</div>"
      ],
      "text/plain": [
       "    accuracy      loss   lr  val_accuracy  val_loss\n",
       "0   0.362584  1.725949  0.1        0.8874  0.451627\n",
       "1   0.452425  1.415023  0.1        0.9005  0.394479\n",
       "2   0.471349  1.348981  0.1        0.9064  0.381601\n",
       "3   0.480788  1.313640  0.1        0.9098  0.371509\n",
       "4   0.489606  1.287366  0.1        0.9156  0.360855\n",
       "5   0.496413  1.264791  0.1        0.9141  0.359256\n",
       "6   0.500861  1.246733  0.1        0.9160  0.353207\n",
       "7   0.507018  1.230206  0.1        0.9176  0.345897\n",
       "8   0.511172  1.216653  0.1        0.9200  0.340429\n",
       "9   0.514570  1.205250  0.1        0.9216  0.334290\n",
       "10  0.518318  1.194812  0.1        0.9237  0.329144\n",
       "11  0.521500  1.185221  0.1        0.9242  0.327808\n",
       "12  0.523438  1.176947  0.1        0.9275  0.323151\n",
       "13  0.526258  1.170058  0.1        0.9283  0.321108\n",
       "14  0.527591  1.164042  0.1        0.9296  0.319913\n",
       "15  0.529412  1.158424  0.1        0.9303  0.317287\n",
       "16  0.531050  1.153465  0.1        0.9303  0.314076\n",
       "17  0.532599  1.148889  0.1        0.9309  0.313304\n",
       "18  0.533577  1.144726  0.1        0.9318  0.311594\n",
       "19  0.533893  1.140786  0.1        0.9322  0.309933\n",
       "20  0.535659  1.137175  0.1        0.9322  0.310250\n",
       "21  0.536320  1.133841  0.1        0.9325  0.309367\n",
       "22  0.537052  1.130483  0.1        0.9329  0.306429\n",
       "23  0.537952  1.127566  0.1        0.9338  0.304991\n",
       "24  0.538418  1.124663  0.1        0.9335  0.303314\n",
       "25  0.538807  1.121951  0.1        0.9336  0.301830\n",
       "26  0.539018  1.119702  0.1        0.9343  0.299280\n",
       "27  0.540023  1.116853  0.1        0.9353  0.298763\n",
       "28  0.540828  1.114782  0.1        0.9359  0.295892\n",
       "29  0.540573  1.112838  0.1        0.9358  0.294854\n",
       "30  0.541317  1.110517  0.1        0.9363  0.295265\n",
       "31  0.542266  1.108572  0.1        0.9362  0.293490\n",
       "32  0.542661  1.106787  0.1        0.9371  0.291609\n",
       "33  0.542744  1.104994  0.1        0.9378  0.293014\n",
       "34  0.543938  1.103527  0.1        0.9383  0.291913\n",
       "35  0.544554  1.102083  0.1        0.9397  0.291570\n",
       "36  0.545320  1.100505  0.1        0.9405  0.289576\n",
       "37  0.545637  1.099556  0.1        0.9407  0.290031\n",
       "38  0.546453  1.098364  0.1        0.9413  0.289595\n",
       "39  0.546281  1.097285  0.1        0.9417  0.290052\n",
       "40  0.547097  1.095896  0.1        0.9422  0.288964\n",
       "41  0.547142  1.095227  0.1        0.9429  0.288117\n",
       "42  0.547647  1.094272  0.1        0.9431  0.287870\n",
       "43  0.547797  1.093248  0.1        0.9437  0.288051\n",
       "44  0.547819  1.092516  0.1        0.9435  0.285590\n",
       "45  0.547186  1.091990  0.1        0.9438  0.285948\n",
       "46  0.548085  1.091014  0.1        0.9442  0.286685\n",
       "47  0.548341  1.090213  0.1        0.9447  0.284771\n",
       "48  0.547991  1.089901  0.1        0.9447  0.284969\n",
       "49  0.548474  1.089117  0.1        0.9442  0.286674"
      ]
     },
     "execution_count": 72,
     "metadata": {},
     "output_type": "execute_result"
    }
   ],
   "source": [
    "df_l2"
   ]
  },
  {
   "cell_type": "code",
   "execution_count": 25,
   "metadata": {},
   "outputs": [
    {
     "data": {
      "image/png": "[encoded data removed]",
      "text/plain": [
       "<Figure size 1008x504 with 1 Axes>"
      ]
     },
     "metadata": {
      "needs_background": "light"
     },
     "output_type": "display_data"
    }
   ],
   "source": [
    "df_l2 = pd.DataFrame(training_history_l2)\n",
    "plt.figure(figsize=(14,7))\n",
    "plt.plot(df_l2['accuracy'], label='Adversarial accuracy')\n",
    "plt.plot(df_l2['val_accuracy'], label='Natural accuracy')\n",
    "plt.grid()\n",
    "plt.legend()\n",
    "plt.show()"
   ]
  },
  {
   "cell_type": "code",
   "execution_count": 26,
   "metadata": {},
   "outputs": [
    {
     "name": "stderr",
     "output_type": "stream",
     "text": [
      "/home/oscar/PycharmProjects/adversarial/venv/lib/python3.6/site-packages/torch/serialization.py:250: UserWarning: Couldn't retrieve source code for container of type Net. It won't be checked for correctness upon loading.\n",
      "  \"type \" + obj.__name__ + \". It won't be checked \"\n"
     ]
    }
   ],
   "source": [
    "# Save hardened model\n",
    "torch.save(adv_model_linf, '../models/mnist_iterated_fgsm_k=40_step=0.01_eps=0.3.pt')\n",
    "torch.save(adv_model_l2, '../models/mnist_pgd_k=40_step=0.1_eps=3.0.pt')"
   ]
  },
  {
   "cell_type": "markdown",
   "metadata": {},
   "source": [
    "# Test hardened models"
   ]
  },
  {
   "cell_type": "markdown",
   "metadata": {},
   "source": [
    "### $L_2$ bounded adversary"
   ]
  },
  {
   "cell_type": "code",
   "execution_count": 27,
   "metadata": {},
   "outputs": [],
   "source": [
    "pgd_acc_linf = []\n",
    "pgd_acc_l2 = []\n",
    "for eps in pgd_attack_range:\n",
    "    pgd_acc_linf.append(eval_pgd_attack(adv_model_linf, 200, eps, 0.25))\n",
    "    pgd_acc_l2.append(eval_pgd_attack(adv_model_l2, 200, eps, 0.25))"
   ]
  },
  {
   "cell_type": "code",
   "execution_count": 28,
   "metadata": {
    "scrolled": false
   },
   "outputs": [
    {
     "data": {
      "image/png": "[encoded data removed]",
      "text/plain": [
       "<Figure size 1008x504 with 1 Axes>"
      ]
     },
     "metadata": {
      "needs_background": "light"
     },
     "output_type": "display_data"
    }
   ],
   "source": [
    "plt.figure(figsize=(14,7))\n",
    "plt.title('Accuracy against $L_2$ adversary')\n",
    "plt.plot(pgd_attack_range, pgd_acc, label='Natural training')\n",
    "plt.plot(pgd_attack_range, pgd_acc_linf, label='$L_{\\infty}$ adversarial training')\n",
    "plt.plot(pgd_attack_range, pgd_acc_l2, label='$L_2$ adversarial training')\n",
    "plt.legend()\n",
    "plt.grid()\n",
    "plt.show()"
   ]
  },
  {
   "cell_type": "markdown",
   "metadata": {},
   "source": [
    "### $L_{\\infty}$ bounded adversary"
   ]
  },
  {
   "cell_type": "code",
   "execution_count": 29,
   "metadata": {},
   "outputs": [
    {
     "ename": "KeyboardInterrupt",
     "evalue": "",
     "output_type": "error",
     "traceback": [
      "\u001b[0;31m---------------------------------------------------------------------------\u001b[0m",
      "\u001b[0;31mKeyboardInterrupt\u001b[0m                         Traceback (most recent call last)",
      "\u001b[0;32m<ipython-input-29-6048a1349bab>\u001b[0m in \u001b[0;36m<module>\u001b[0;34m\u001b[0m\n\u001b[1;32m      2\u001b[0m \u001b[0miter_fgsm_acc_l2\u001b[0m \u001b[0;34m=\u001b[0m \u001b[0;34m[\u001b[0m\u001b[0;34m]\u001b[0m\u001b[0;34m\u001b[0m\u001b[0m\n\u001b[1;32m      3\u001b[0m \u001b[0;32mfor\u001b[0m \u001b[0meps\u001b[0m \u001b[0;32min\u001b[0m \u001b[0miter_fgsm_attack_range\u001b[0m\u001b[0;34m:\u001b[0m\u001b[0;34m\u001b[0m\u001b[0m\n\u001b[0;32m----> 4\u001b[0;31m     \u001b[0miter_fgsm_acc_linf\u001b[0m\u001b[0;34m.\u001b[0m\u001b[0mappend\u001b[0m\u001b[0;34m(\u001b[0m\u001b[0meval_iterated_fgsm\u001b[0m\u001b[0;34m(\u001b[0m\u001b[0madv_model_linf\u001b[0m\u001b[0;34m,\u001b[0m \u001b[0;36m200\u001b[0m\u001b[0;34m,\u001b[0m \u001b[0;36m0.01\u001b[0m\u001b[0;34m,\u001b[0m \u001b[0meps\u001b[0m\u001b[0;34m)\u001b[0m\u001b[0;34m)\u001b[0m\u001b[0;34m\u001b[0m\u001b[0m\n\u001b[0m\u001b[1;32m      5\u001b[0m     \u001b[0miter_fgsm_acc_l2\u001b[0m\u001b[0;34m.\u001b[0m\u001b[0mappend\u001b[0m\u001b[0;34m(\u001b[0m\u001b[0meval_iterated_fgsm\u001b[0m\u001b[0;34m(\u001b[0m\u001b[0madv_model_l2\u001b[0m\u001b[0;34m,\u001b[0m \u001b[0;36m200\u001b[0m\u001b[0;34m,\u001b[0m \u001b[0;36m0.01\u001b[0m\u001b[0;34m,\u001b[0m \u001b[0meps\u001b[0m\u001b[0;34m)\u001b[0m\u001b[0;34m)\u001b[0m\u001b[0;34m\u001b[0m\u001b[0m\n",
      "\u001b[0;32m<ipython-input-15-354fa478d8b8>\u001b[0m in \u001b[0;36meval_iterated_fgsm\u001b[0;34m(model, k, step, eps)\u001b[0m\n\u001b[1;32m      6\u001b[0m \u001b[0;34m\u001b[0m\u001b[0m\n\u001b[1;32m      7\u001b[0m         x_adv = iterated_fgsm(\n\u001b[0;32m----> 8\u001b[0;31m             model, x.to(DEVICE), y.to(DEVICE), torch.nn.CrossEntropyLoss(), k=k, step=step, eps=eps, norm='inf')\n\u001b[0m\u001b[1;32m      9\u001b[0m \u001b[0;34m\u001b[0m\u001b[0m\n\u001b[1;32m     10\u001b[0m         \u001b[0my_pred\u001b[0m \u001b[0;34m=\u001b[0m \u001b[0mmodel\u001b[0m\u001b[0;34m(\u001b[0m\u001b[0mx_adv\u001b[0m\u001b[0;34m)\u001b[0m\u001b[0;34m\u001b[0m\u001b[0m\n",
      "\u001b[0;32m~/PycharmProjects/adversarial/adversarial/functional.py\u001b[0m in \u001b[0;36miterated_fgsm\u001b[0;34m(model, x, y, loss_fn, k, step, eps, norm, y_target, random, clamp)\u001b[0m\n\u001b[1;32m    142\u001b[0m     \"\"\"\n\u001b[1;32m    143\u001b[0m     return _iterative_gradient(model=model, x=x, y=y, loss_fn=loss_fn, k=k, eps=eps, norm=norm, step=step,\n\u001b[0;32m--> 144\u001b[0;31m                                step_norm='inf', y_target=y_target, random=random, clamp=clamp)\n\u001b[0m\u001b[1;32m    145\u001b[0m \u001b[0;34m\u001b[0m\u001b[0m\n\u001b[1;32m    146\u001b[0m \u001b[0;34m\u001b[0m\u001b[0m\n",
      "\u001b[0;32m~/PycharmProjects/adversarial/adversarial/functional.py\u001b[0m in \u001b[0;36m_iterative_gradient\u001b[0;34m(model, x, y, loss_fn, k, step, eps, norm, step_norm, y_target, random, clamp)\u001b[0m\n\u001b[1;32m     83\u001b[0m         \u001b[0mprediction\u001b[0m \u001b[0;34m=\u001b[0m \u001b[0mmodel\u001b[0m\u001b[0;34m(\u001b[0m\u001b[0m_x_adv\u001b[0m\u001b[0;34m)\u001b[0m\u001b[0;34m\u001b[0m\u001b[0m\n\u001b[1;32m     84\u001b[0m         \u001b[0mloss\u001b[0m \u001b[0;34m=\u001b[0m \u001b[0mloss_fn\u001b[0m\u001b[0;34m(\u001b[0m\u001b[0mprediction\u001b[0m\u001b[0;34m,\u001b[0m \u001b[0my_target\u001b[0m \u001b[0;32mif\u001b[0m \u001b[0mtargeted\u001b[0m \u001b[0;32melse\u001b[0m \u001b[0my\u001b[0m\u001b[0;34m)\u001b[0m\u001b[0;34m\u001b[0m\u001b[0m\n\u001b[0;32m---> 85\u001b[0;31m         \u001b[0mloss\u001b[0m\u001b[0;34m.\u001b[0m\u001b[0mbackward\u001b[0m\u001b[0;34m(\u001b[0m\u001b[0;34m)\u001b[0m\u001b[0;34m\u001b[0m\u001b[0m\n\u001b[0m\u001b[1;32m     86\u001b[0m \u001b[0;34m\u001b[0m\u001b[0m\n\u001b[1;32m     87\u001b[0m         \u001b[0;32mwith\u001b[0m \u001b[0mtorch\u001b[0m\u001b[0;34m.\u001b[0m\u001b[0mno_grad\u001b[0m\u001b[0;34m(\u001b[0m\u001b[0;34m)\u001b[0m\u001b[0;34m:\u001b[0m\u001b[0;34m\u001b[0m\u001b[0m\n",
      "\u001b[0;32m~/PycharmProjects/adversarial/venv/lib/python3.6/site-packages/torch/tensor.py\u001b[0m in \u001b[0;36mbackward\u001b[0;34m(self, gradient, retain_graph, create_graph)\u001b[0m\n\u001b[1;32m    100\u001b[0m                 \u001b[0mproducts\u001b[0m\u001b[0;34m.\u001b[0m \u001b[0mDefaults\u001b[0m \u001b[0mto\u001b[0m\u001b[0;31m \u001b[0m\u001b[0;31m`\u001b[0m\u001b[0;31m`\u001b[0m\u001b[0;32mFalse\u001b[0m\u001b[0;31m`\u001b[0m\u001b[0;31m`\u001b[0m\u001b[0;34m.\u001b[0m\u001b[0;34m\u001b[0m\u001b[0m\n\u001b[1;32m    101\u001b[0m         \"\"\"\n\u001b[0;32m--> 102\u001b[0;31m         \u001b[0mtorch\u001b[0m\u001b[0;34m.\u001b[0m\u001b[0mautograd\u001b[0m\u001b[0;34m.\u001b[0m\u001b[0mbackward\u001b[0m\u001b[0;34m(\u001b[0m\u001b[0mself\u001b[0m\u001b[0;34m,\u001b[0m \u001b[0mgradient\u001b[0m\u001b[0;34m,\u001b[0m \u001b[0mretain_graph\u001b[0m\u001b[0;34m,\u001b[0m \u001b[0mcreate_graph\u001b[0m\u001b[0;34m)\u001b[0m\u001b[0;34m\u001b[0m\u001b[0m\n\u001b[0m\u001b[1;32m    103\u001b[0m \u001b[0;34m\u001b[0m\u001b[0m\n\u001b[1;32m    104\u001b[0m     \u001b[0;32mdef\u001b[0m \u001b[0mregister_hook\u001b[0m\u001b[0;34m(\u001b[0m\u001b[0mself\u001b[0m\u001b[0;34m,\u001b[0m \u001b[0mhook\u001b[0m\u001b[0;34m)\u001b[0m\u001b[0;34m:\u001b[0m\u001b[0;34m\u001b[0m\u001b[0m\n",
      "\u001b[0;32m~/PycharmProjects/adversarial/venv/lib/python3.6/site-packages/torch/autograd/__init__.py\u001b[0m in \u001b[0;36mbackward\u001b[0;34m(tensors, grad_tensors, retain_graph, create_graph, grad_variables)\u001b[0m\n\u001b[1;32m     88\u001b[0m     Variable._execution_engine.run_backward(\n\u001b[1;32m     89\u001b[0m         \u001b[0mtensors\u001b[0m\u001b[0;34m,\u001b[0m \u001b[0mgrad_tensors\u001b[0m\u001b[0;34m,\u001b[0m \u001b[0mretain_graph\u001b[0m\u001b[0;34m,\u001b[0m \u001b[0mcreate_graph\u001b[0m\u001b[0;34m,\u001b[0m\u001b[0;34m\u001b[0m\u001b[0m\n\u001b[0;32m---> 90\u001b[0;31m         allow_unreachable=True)  # allow_unreachable flag\n\u001b[0m\u001b[1;32m     91\u001b[0m \u001b[0;34m\u001b[0m\u001b[0m\n\u001b[1;32m     92\u001b[0m \u001b[0;34m\u001b[0m\u001b[0m\n",
      "\u001b[0;31mKeyboardInterrupt\u001b[0m: "
     ]
    }
   ],
   "source": [
    "iter_fgsm_acc_linf = []\n",
    "iter_fgsm_acc_l2 = []\n",
    "for eps in iter_fgsm_attack_range:\n",
    "    iter_fgsm_acc_linf.append(eval_iterated_fgsm(adv_model_linf, 200, 0.01, eps))\n",
    "    iter_fgsm_acc_l2.append(eval_iterated_fgsm(adv_model_l2, 200, 0.01, eps))"
   ]
  },
  {
   "cell_type": "code",
   "execution_count": null,
   "metadata": {},
   "outputs": [],
   "source": [
    "plt.figure(figsize=(14,7))\n",
    "plt.title('Accuracy against Iterated FGSM adversary')\n",
    "plt.plot(iter_fgsm_attack_range, iter_fgsm_acc, label='Natural Training')\n",
    "plt.plot(iter_fgsm_attack_range, iter_fgsm_acc_linf, label='$L_{\\infty}$ adversarial training')\n",
    "plt.plot(iter_fgsm_attack_range, iter_fgsm_acc_l2, label='$L_2$ adversarial training')\n",
    "plt.legend()\n",
    "plt.grid()\n",
    "plt.show()"
   ]
  },
  {
   "cell_type": "markdown",
   "metadata": {},
   "source": [
    "# Class interpolation\n",
    "### Untargeted"
   ]
  },
  {
   "cell_type": "code",
   "execution_count": 34,
   "metadata": {},
   "outputs": [
    {
     "name": "stdout",
     "output_type": "stream",
     "text": [
      "L2 distance =  tensor(2.9995, device='cuda:0')\n",
      "Linf distance =  tensor(0.8064, device='cuda:0')\n",
      "Adversarial prediction =  9\n"
     ]
    },
    {
     "data": {
      "image/png": "[encoded data removed]",
      "text/plain": [
       "<Figure size 720x360 with 2 Axes>"
      ]
     },
     "metadata": {
      "needs_background": "light"
     },
     "output_type": "display_data"
    }
   ],
   "source": [
    "x, y = val[0]\n",
    "x = x.unsqueeze(0).to(DEVICE)\n",
    "y = y.unsqueeze(0).to(DEVICE)\n",
    "x_adv_pgd_hard = pgd(adv_model_l2, x, y, torch.nn.CrossEntropyLoss(), k=120, step=0.25, eps=3, norm=2)\n",
    "print('L2 distance = ', (x - x_adv_pgd_hard).norm(2))\n",
    "print('Linf distance = ', (x - x_adv_pgd_hard).norm(float('inf')))\n",
    "print('Adversarial prediction = ', adv_model_l2(x_adv_pgd_hard).argmax(dim=1).item())\n",
    "fig, axes = plt.subplots(1, 2, figsize=(10,5))\n",
    "\n",
    "axes[0].imshow(x[0, 0].cpu().numpy(), cmap='gray')\n",
    "axes[0].set_title(f'Sample, pred={adv_model_l2(x).softmax(dim=1)[0, y].item()}')\n",
    "\n",
    "axes[1].imshow(x_adv_pgd_hard[0, 0].cpu().numpy(), cmap='gray')\n",
    "axes[1].set_title(f'Adversarial sample, pred={adv_model_l2(x_adv_pgd_hard).softmax(dim=1)[0, y].item()}')\n",
    "\n",
    "plt.show()"
   ]
  },
  {
   "cell_type": "markdown",
   "metadata": {},
   "source": [
    "### Targeted"
   ]
  },
  {
   "cell_type": "code",
   "execution_count": 41,
   "metadata": {},
   "outputs": [
    {
     "name": "stdout",
     "output_type": "stream",
     "text": [
      "8\n"
     ]
    },
    {
     "data": {
      "image/png": "[encoded data removed]",
      "text/plain": [
       "<Figure size 720x360 with 2 Axes>"
      ]
     },
     "metadata": {
      "needs_background": "light"
     },
     "output_type": "display_data"
    }
   ],
   "source": [
    " x_adv_pgd_hard = pgd(adv_model_l2, x, y, torch.nn.CrossEntropyLoss(),\n",
    "                             k=240, step=0.25, eps=6, norm=2, y_target=torch.Tensor([8]).long().to(DEVICE))\n",
    "    \n",
    "print(adv_model_l2(x_adv_pgd_hard).argmax(dim=1).item())\n",
    "fig, axes = plt.subplots(1, 2, figsize=(10,5))\n",
    "\n",
    "axes[0].imshow(x[0, 0].cpu().numpy(), cmap='gray')\n",
    "axes[0].set_title(f'Sample, pred={adv_model_l2(x).softmax(dim=1)[0, y].item()}')\n",
    "\n",
    "axes[1].imshow(x_adv_pgd_hard[0, 0].cpu().numpy(), cmap='gray')\n",
    "axes[1].set_title(f'Adversarial sample, pred={adv_model_l2(x_adv_pgd_hard).softmax(dim=1)[0, y].item()}')\n",
    "\n",
    "plt.show()"
   ]
  },
  {
   "cell_type": "code",
   "execution_count": 69,
   "metadata": {},
   "outputs": [],
   "source": [
    "def class_interpolations(eps, model_, random=False):\n",
    "    examples = []\n",
    "    for i in range(10):\n",
    "        if i != 7:\n",
    "#             x_adv_pgd_hard = pgd(model_, x, y, torch.nn.CrossEntropyLoss(), random=random,\n",
    "#                              k=120, step=0.1, eps=eps, norm=2, y_target=torch.Tensor([i]).long().to(DEVICE))\n",
    "            \n",
    "            x_adv_pgd_hard = iterated_fgsm(model_, x, y, torch.nn.CrossEntropyLoss(), random=random,\n",
    "                             k=500, step=0.005, eps=eps, norm='inf', y_target=torch.Tensor([i]).long().to(DEVICE))\n",
    "            \n",
    "            examples.append(x_adv_pgd_hard[0, 0].cpu().numpy())\n",
    "        else:\n",
    "            examples.append(x[0, 0].cpu().numpy())\n",
    "\n",
    "    fig, axes = plt.subplots(3, 3, figsize=(15, 15))\n",
    "    fig.suptitle(f'Interpolating with eps={eps}')\n",
    "    idx = list(range(10))\n",
    "    idx.remove(7)\n",
    "\n",
    "    for i, j in enumerate(idx):\n",
    "        axes[i // 3, i % 3].set_title(f'{y.item()} -> {j}')\n",
    "        axes[i // 3, i % 3].imshow(examples[j], cmap='gray')\n",
    "        axes[i // 3, i % 3].set_xticks([])\n",
    "        axes[i // 3, i % 3].set_yticks([])\n",
    "\n",
    "    plt.show()"
   ]
  },
  {
   "cell_type": "code",
   "execution_count": 71,
   "metadata": {},
   "outputs": [
    {
     "data": {
      "image/png": "[encoded data removed]",
      "text/plain": [
       "<Figure size 1080x1080 with 9 Axes>"
      ]
     },
     "metadata": {},
     "output_type": "display_data"
    }
   ],
   "source": [
    "# class_interpolations(6, adv_model_l2, random=False)\n",
    "class_interpolations(0.3, adv_model_linf, random=False)"
   ]
  },
  {
   "cell_type": "code",
   "execution_count": 47,
   "metadata": {},
   "outputs": [],
   "source": [
    "def smoothly_interpolate(model_, target_class, eps_range):\n",
    "    examples = []\n",
    "    fig, axes = plt.subplots(1, len(eps_range), figsize=(5*len(eps_range), 5))\n",
    "    \n",
    "    for i, eps in enumerate(eps_range):\n",
    "        x_adv_pgd_hard = pgd(model_, x, y, torch.nn.CrossEntropyLoss(),\n",
    "                         k=120, step=0.1, eps=eps, norm=2, y_target=torch.Tensor([target_class]).long().to(DEVICE))\n",
    "\n",
    "        examples.append(x_adv_pgd_hard[0, 0].cpu().numpy())\n",
    "        \n",
    "        axes[i].set_title(f'{eps}')\n",
    "        axes[i].imshow(x_adv_pgd_hard[0,0].cpu().numpy(), cmap='gray')\n",
    "        axes[i].set_xticks([])\n",
    "        axes[i].set_yticks([])\n",
    "\n",
    "    plt.show()"
   ]
  },
  {
   "cell_type": "code",
   "execution_count": 48,
   "metadata": {},
   "outputs": [
    {
     "data": {
      "image/png": "[encoded data removed]",
      "text/plain": [
       "<Figure size 1800x360 with 5 Axes>"
      ]
     },
     "metadata": {},
     "output_type": "display_data"
    }
   ],
   "source": [
    "smoothly_interpolate(adv_model_l2, 3, [0, 1.5, 3, 4.5, 6])"
   ]
  },
  {
   "cell_type": "code",
   "execution_count": 49,
   "metadata": {},
   "outputs": [
    {
     "data": {
      "image/png": "[encoded data removed]",
      "text/plain": [
       "<Figure size 1800x360 with 5 Axes>"
      ]
     },
     "metadata": {},
     "output_type": "display_data"
    }
   ],
   "source": [
    "smoothly_interpolate(adv_model_l2, 9, [0, 1.5, 3, 4.5, 6])"
   ]
  },
  {
   "cell_type": "markdown",
   "metadata": {},
   "source": [
    "# Appendix\n",
    "### Generate gif "
   ]
  },
  {
   "cell_type": "code",
   "execution_count": null,
   "metadata": {
    "scrolled": true
   },
   "outputs": [],
   "source": [
    "# eps_range = np.sin(np.linspace(0, np.pi, 60))*6\n",
    "# for i_eps, eps in enumerate(eps_range):\n",
    "#     examples = []\n",
    "#     for i in range(10):\n",
    "#         if i != 7:\n",
    "#             x_adv_pgd_hard = pgd(hard_model, x, y, torch.nn.CrossEntropyLoss(),\n",
    "#                              k=120, step=0.1, eps=eps, norm=2, y_target=torch.Tensor([i]).long().to(DEVICE))\n",
    "\n",
    "#             examples.append(x_adv_pgd_hard[0, 0].cpu().numpy())\n",
    "#         else:\n",
    "#             examples.append(x[0, 0].cpu().numpy())\n",
    "\n",
    "#     fig, axes = plt.subplots(3, 3, figsize=(15, 15))\n",
    "#     idx = list(range(10))\n",
    "#     idx.remove(7)\n",
    "\n",
    "#     for i, j in enumerate(idx):\n",
    "#         axes[i // 3, i % 3].imshow(examples[j], cmap='gray')\n",
    "#         axes[i // 3, i % 3].set_xticks([])\n",
    "#         axes[i // 3, i % 3].set_yticks([])\n",
    "    \n",
    "#     file_path = f'/home/oscar/Pictures/know-your-enemy/mnist_interpolation/{i_eps}-{np.round(eps, 2)}.png'\n",
    "#     print(file_path)\n",
    "#     plt.savefig(file_path)\n",
    "#     plt.close()"
   ]
  },
  {
   "cell_type": "code",
   "execution_count": null,
   "metadata": {},
   "outputs": [],
   "source": []
  }
 ],
 "metadata": {
  "kernelspec": {
   "display_name": "Python 3",
   "language": "python",
   "name": "python3"
  },
  "language_info": {
   "codemirror_mode": {
    "name": "ipython",
    "version": 3
   },
   "file_extension": ".py",
   "mimetype": "text/x-python",
   "name": "python",
   "nbconvert_exporter": "python",
   "pygments_lexer": "ipython3",
   "version": "3.6.5"
  }
 },
 "nbformat": 4,
 "nbformat_minor": 2
}
